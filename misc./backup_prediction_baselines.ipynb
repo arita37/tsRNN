{
 "cells": [
  {
   "cell_type": "code",
   "execution_count": null,
   "metadata": {
    "collapsed": true
   },
   "outputs": [],
   "source": [
    "# periodic time series\n",
    "\n",
    "\n",
    "\n",
    "#  time series modeling process\n",
    "\n",
    "# 1. stationary test\n",
    "#    trend model:\n",
    "#         Aggregation – taking average for a time period like monthly/weekly averages\n",
    "#         Smoothing – taking rolling averages\n",
    "#         Polynomial Fitting – fit a regression model\n",
    "#    seasonality model:\n",
    "#         differencing\n",
    "#         model fitting\n",
    "# 2. stationalize time series\n",
    "#       detrend\n",
    "#       remove seasonality\n",
    "# 3. model the stationary part of time series        \n",
    "\n",
    "#    seasonal-ARIMA \n",
    "\n",
    "# 4. perform prediction \n"
   ]
  },
  {
   "cell_type": "code",
   "execution_count": null,
   "metadata": {
    "collapsed": true
   },
   "outputs": [],
   "source": [
    "# TO DO: \n",
    "\n",
    "# Statistics programming \n",
    "\n",
    "# book:\n",
    "\n",
    "# Probabilistic Programming and Bayesian Methods for Hackers \n",
    "# http://nbviewer.jupyter.org/github/CamDavidsonPilon/Probabilistic-Programming-and-Bayesian-Methods-for-Hackers/blob/master/Prologue/Prologue.ipynb"
   ]
  },
  {
   "cell_type": "code",
   "execution_count": null,
   "metadata": {
    "collapsed": true
   },
   "outputs": [],
   "source": [
    "# Examples:\n",
    "\n",
    "# stock prediction\n",
    "# https://bitbucket.org/joexdobs/ml-classifier-gesture-recognition/wiki/stock-example/\n",
    "# predict-future-stock-price-using-machine-learning.md\n",
    "\n",
    "# statsmodels:\n",
    "#  http://statsmodels.sourceforge.net/stable/index.html\n",
    "\n",
    "# http://www.seanabu.com/2016/03/22/time-series-seasonal-ARIMA-model-in-python/\n",
    "\n",
    "# http://nbviewer.jupyter.org/gist/ChadFulton/5127108f4c7025ed2648\n",
    "\n",
    "# https://www.analyticsvidhya.com/blog/2016/02/time-series-forecasting-codes-python/\n",
    "\n",
    "# http://nbviewer.jupyter.org/github/jakevdp/SeattleBike/blob/master/SeattleCycling.ipynb\n",
    "\n",
    "\n",
    "# book\n",
    "# http://shelfjoy.com/shelfjoy/17-essential-machine-learning-books-suggested-by-michael-i-jordan-from-berkeley"
   ]
  },
  {
   "cell_type": "code",
   "execution_count": null,
   "metadata": {
    "collapsed": true
   },
   "outputs": [],
   "source": [
    "# baseline\n",
    "\n",
    "#  GP\n",
    "#  S-ARIMA\n",
    "#  SVR\n",
    "#  RF\n",
    "#  GBT\n",
    "#  xgboosted \n"
   ]
  },
  {
   "cell_type": "code",
   "execution_count": 2,
   "metadata": {
    "collapsed": false
   },
   "outputs": [
    {
     "name": "stdout",
     "output_type": "stream",
     "text": [
      "46.23\n",
      "46.44\n",
      "2017-04-07 20:00:00 UTC+0000\n"
     ]
    }
   ],
   "source": [
    "# Documentation https://code.google.com/p/yahoo-finance-managed/wiki/csvHistQuotesDownload\n",
    "# updated for python 3.5\n",
    "# Months are 0..11\n",
    "\n",
    "# import http.client\n",
    "\n",
    "from yahoo_finance import Share\n",
    "yahoo = Share('YHOO')\n",
    "print yahoo.get_open()\n",
    "print yahoo.get_price()\n",
    "print yahoo.get_trade_datetime()\n",
    "\n",
    "\n",
    "# def fetchYahoo(symbol, begYear, begMonth, begDay,  endYear, endMonth, endDay):\n",
    "#     uri = \"/table.csv?s=\" + symbol + \"&d=\" + str(endMonth) + \"&e=\" + str(endDay) + \"&f=\" + str(endYear) + \"&g=d&a=\" + str(begMonth) + \"&b=\" + str(begDay) + \"&c=\" + str(begYear) + \"&ignore=.csv\"\n",
    "#     print (\"uri=\",  uri)\n",
    "#     conn = http.client.HTTPConnection(\"ichart.finance.yahoo.com\")\n",
    "#     conn.request(\"GET\", uri)\n",
    "#     r1 = conn.getresponse()\n",
    "#     data1 = r1.read()\n",
    "#     print (data1)\n",
    "#     fname = \"data/\" + symbol + \".csv\"\n",
    "\n",
    "#     tarr = data1.decode().strip().split(\"\\n\")\n",
    "#     head = tarr[0]\n",
    "#     body = tarr[1:]\n",
    "#     body.reverse()\n",
    "#     body.insert(0,head)\n",
    "#     f = open(fname, \"w\")\n",
    "#     f.write(\"\\n\".join(body))\n",
    "#     f.close()\n",
    "#     return data1\n",
    "#   symbol begin     End\n",
    "# fetchYahoo(\"SPY\",  2010,0,1, 2017,2,10)\n",
    "# fetchYahoo(\"SLV\",  2007,0,1, 2017,2,10)\n",
    "# fetchYahoo(\"GLD\",  2005,0,1, 2017,2,10)\n",
    "# fetchYahoo(\"CAT\",   2004,0,1, 2017,2,10)\n",
    "# fetchYahoo(\"IBM\",  2005,0,1, 2017,2,10)"
   ]
  }
 ],
 "metadata": {
  "kernelspec": {
   "display_name": "Python 2",
   "language": "python",
   "name": "python2"
  },
  "language_info": {
   "codemirror_mode": {
    "name": "ipython",
    "version": 2
   },
   "file_extension": ".py",
   "mimetype": "text/x-python",
   "name": "python",
   "nbconvert_exporter": "python",
   "pygments_lexer": "ipython2",
   "version": "2.7.6"
  }
 },
 "nbformat": 4,
 "nbformat_minor": 0
}
