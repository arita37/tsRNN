{
 "cells": [
  {
   "cell_type": "code",
   "execution_count": 2,
   "metadata": {},
   "outputs": [
    {
     "name": "stderr",
     "output_type": "stream",
     "text": [
      "/home/guo/.local/lib/python2.7/site-packages/statsmodels/compat/pandas.py:56: FutureWarning: The pandas.core.datetools module is deprecated and will be removed in a future version. Please use the pandas.tseries module instead.\n",
      "  from pandas.core import datetools\n",
      "/usr/local/lib/python2.7/dist-packages/h5py/__init__.py:36: FutureWarning: Conversion of the second argument of issubdtype from `float` to `np.floating` is deprecated. In future, it will be treated as `np.float64 == np.dtype(float).type`.\n",
      "  from ._conv import register_converters as _register_converters\n",
      "Using TensorFlow backend.\n"
     ]
    }
   ],
   "source": [
    "# data processing packages\n",
    "import numpy as np   \n",
    "import pandas as pd \n",
    "from pandas import *\n",
    "from numpy import *\n",
    "\n",
    "from scipy import stats # look at scipy\n",
    "from scipy import linalg\n",
    "from scipy import *\n",
    " \n",
    "%matplotlib inline    \n",
    "import matplotlib as mplt\n",
    "from matplotlib import cm\n",
    "import matplotlib.pyplot as plt\n",
    "import matplotlib.gridspec as gridspec\n",
    "\n",
    "import IPython\n",
    "from IPython.display import display\n",
    "\n",
    "import matplotlib\n",
    "from matplotlib.ticker import FuncFormatter\n",
    "import matplotlib.pyplot as plt\n",
    "# matplotlib.style.use('ggplot')\n",
    "import itertools\n",
    "\n",
    "import random\n",
    "\n",
    "# local packages \n",
    "from utils_causal import *\n",
    "\n",
    "import pickle"
   ]
  },
  {
   "cell_type": "code",
   "execution_count": null,
   "metadata": {
    "collapsed": true
   },
   "outputs": [],
   "source": [
    "# TO DO\n",
    "# \n",
    "# Kalman \n",
    "# structural bayeisan time series\n",
    "# feature extration on time series\n"
   ]
  },
  {
   "cell_type": "code",
   "execution_count": 4,
   "metadata": {},
   "outputs": [
    {
     "name": "stdout",
     "output_type": "stream",
     "text": [
      "[{u'mape': inf, u'mae': 118.89532926550996, u'val_step loss': 23168.84392886817, u'rmse': 152.21315235979165}, {u'mape': inf, u'mae': 118.89532926550996, u'val_step loss': 23168.84392886817, u'rmse': 152.21315235979165}, {u'mape': inf, u'mae': 139.19336218108455, u'val_step loss': 25213.745848527513, u'rmse': 158.7883685567306}, {u'mape': inf, u'mae': 102.13550883452332, u'val_step loss': 26119.29254177437, u'rmse': 161.61463993628212}, {u'mape': inf, u'mae': 162.09156470249462, u'val_step loss': 31929.295201717134, u'rmse': 178.68770265742504}, {u'mape': inf, u'mae': 152.53454946001312, u'val_step loss': 37531.822112721566, u'rmse': 193.73131603099182}, {u'mape': inf, u'mae': 165.80182923092624, u'val_step loss': 39515.4072366599, u'rmse': 198.78482699516695}, {u'mape': inf, u'mae': 161.35612042158004, u'val_step loss': 39690.65605959195, u'rmse': 199.2251369642946}, {u'mape': inf, u'mae': 164.72220598753304, u'val_step loss': 39762.48210741322, u'rmse': 199.40532229042503}, {u'mape': inf, u'mae': 165.99543147971042, u'val_step loss': 39939.69827247969, u'rmse': 199.8491862944558}]\n",
      "rmse 179.4512804445355 20.031138648994173\n",
      "mae 145.16212308288854 22.61112518470544\n"
     ]
    }
   ],
   "source": [
    "#  PM2.5  Dual\n",
    "\n",
    "# -- Data -- \n",
    "pkl_file = \"../../ts_results/pickle/plant_dual.pickle\"\n",
    "pkl_file = open(pkl_file, 'rb')\n",
    "data = pickle.load(pkl_file)\n",
    "\n",
    "att = data['attention']\n",
    "rmse = data['rmse']\n",
    "\n",
    "print rmse\n",
    "\n",
    "print 'rmse', mean([i['rmse'] for i in rmse]), std([i['rmse'] for i in rmse])\n",
    "print 'mae',  mean([i['mae'] for i in rmse]),  std([i['mae'] for i in rmse])"
   ]
  },
  {
   "cell_type": "code",
   "execution_count": 41,
   "metadata": {},
   "outputs": [
    {
     "name": "stdout",
     "output_type": "stream",
     "text": [
      "rmse 0.3550972100169377 0.002666043913794741\n",
      "mae 0.24777184127553947 0.002857704487856903\n",
      "[[4, 0.6981583], [5, 0.15599783], [3, 0.09633694], [1, 0.031105526]]\n",
      "(2000,) 0.6981583\n",
      "(2000,) 0.15599783\n",
      "(2000,) 0.09633694\n",
      "(2000,) 0.031105526\n"
     ]
    },
    {
     "data": {
      "image/png": "[encoded data removed]",
      "text/plain": [
       "<matplotlib.figure.Figure at 0x7f3fe52dced0>"
      ]
     },
     "metadata": {},
     "output_type": "display_data"
    }
   ],
   "source": [
    "#  PM2.5  Dual\n",
    "\n",
    "# -- Data -- \n",
    "pkl_file = \"../../ts_results/pickle/pm25_dual.pickle\"\n",
    "pkl_file = open(pkl_file, 'rb')\n",
    "data = pickle.load(pkl_file)\n",
    "\n",
    "att = data['attention']\n",
    "rmse = data['rmse']\n",
    "\n",
    "print 'rmse', mean([i['rmse'] for i in rmse]), std([i['rmse'] for i in rmse])\n",
    "print 'mae',  mean([i['mae'] for i in rmse]),  std([i['mae'] for i in rmse])\n",
    "\n",
    "# ganger causal: 0,1,2\n",
    "num_ex_vari = 7\n",
    "vari_name = ['Dew Point', 'Temperature', 'Pressure', 'Cumulated wind speed', \\\n",
    "             'Cumulated hours of snow','Cumulated hours of rain']\n",
    "\n",
    "\n",
    "#  --- rank variables according to attention ---\n",
    "np.shape(att)\n",
    "att = np.transpose(att,[1,0])\n",
    "\n",
    "att_mean =[]\n",
    "for i in range(num_ex_vari-1):\n",
    "    tmp = att[i]\n",
    "    att_mean.append([i, mean(tmp)])\n",
    "\n",
    "sort_att_mean = sorted(att_mean, key = lambda x:x[1], reverse= True)\n",
    "print sort_att_mean[:4]\n",
    "\n",
    "\n",
    "#  --- plot ---\n",
    "\n",
    "fig, ax = plt.subplots(1, 4, figsize=(19,4))\n",
    "ax_idx = 0\n",
    "\n",
    "# variate attention distribution\n",
    "for i in sort_att_mean[:4]:\n",
    "    \n",
    "    idx = i[0]\n",
    "    \n",
    "    tmp = att[idx]\n",
    "    print np.shape(tmp), mean(tmp)\n",
    "    \n",
    "    ax[ax_idx].hist(tmp, density = True)\n",
    "#     ax[ax_idx].set_xlim(0, 0.5)\n",
    "    ax[ax_idx].set_ylim(0, 40)\n",
    "    ax[ax_idx].set_title( vari_name[int(idx)], fontweight = 'bold', fontsize=17)\n",
    "    \n",
    "    ax[ax_idx].xaxis.set_tick_params(labelsize=15)\n",
    "    ax[ax_idx].yaxis.set_tick_params(labelsize=15)\n",
    "    \n",
    "    ax[ax_idx].set_xlabel('Attention value', fontweight = 'bold', fontsize=17)\n",
    "    if ax_idx ==0:\n",
    "        ax[ax_idx].set_ylabel('Density', fontweight = 'bold', fontsize=17)\n",
    "    \n",
    "    ax_idx += 1\n",
    "\n",
    "fig.savefig('../../ts_results/figure/pm_dual.eps', bbox_inches='tight')"
   ]
  },
  {
   "cell_type": "code",
   "execution_count": 40,
   "metadata": {},
   "outputs": [
    {
     "name": "stdout",
     "output_type": "stream",
     "text": [
      "rmse 0.3711821328239959 0.005928918496652915\n",
      "mae 0.24878121366912032 0.005741588148647269\n",
      "[[9, 0.13146618], [5, 0.12250754], [11, 0.110023275], [1, 0.109782405]]\n",
      "(2000,) 0.13146618\n",
      "(2000,) 0.12250754\n",
      "(2000,) 0.110023275\n",
      "(2000,) 0.109782405\n"
     ]
    },
    {
     "data": {
      "image/png": "[encoded data removed]",
      "text/plain": [
       "<matplotlib.figure.Figure at 0x7f3fe7b1a650>"
      ]
     },
     "metadata": {},
     "output_type": "display_data"
    }
   ],
   "source": [
    "# ENERGY Dual\n",
    "pkl_file = \"../../ts_results/pickle/energy_dual.pickle\"\n",
    "pkl_file = open(pkl_file, 'rb')\n",
    "\n",
    "data = pickle.load(pkl_file)\n",
    "att = data['attention']\n",
    "rmse = data['rmse']\n",
    "\n",
    "print 'rmse', mean([i['rmse'] for i in rmse]), std([i['rmse'] for i in rmse])\n",
    "print 'mae',  mean([i['mae'] for i in rmse]),  std([i['mae'] for i in rmse])\n",
    "\n",
    "\n",
    "#  --- rank variables according to attention ---\n",
    "np.shape(att)\n",
    "att = np.transpose(att,[1,0])\n",
    "\n",
    "att_mean =[]\n",
    "for i in range(num_ex_vari-1):\n",
    "    tmp = att[i]\n",
    "    att_mean.append([i, mean(tmp)])\n",
    "\n",
    "sort_att_mean = sorted(att_mean, key = lambda x:x[1], reverse= True)\n",
    "print sort_att_mean[:4]\n",
    "\n",
    "\n",
    "# ganger causal: 1,8\n",
    "num_ex_vari = 13\n",
    "vari_name = ['Kitchen temp.', 'Living room temp.', 'Laundry room temp.', 'Office room temp.',\\\n",
    "             'Bathroom temp.','Building outside temp.', 'Ironing room temp.', 'Teenager room temp.',\\\n",
    "             'Parents room temp.', 'Outside temp.', 'Wind speed', 'Humidity outside', 'Dew point'  ]\n",
    "\n",
    "#  --- plot ---\n",
    "\n",
    "fig, ax = plt.subplots(1, 4, figsize=(19,4))\n",
    "ax_idx = 0\n",
    "\n",
    "# variate attention distribution\n",
    "for i in sort_att_mean[:4]:\n",
    "    \n",
    "    idx = i[0]\n",
    "    \n",
    "    tmp = att[idx]\n",
    "    print np.shape(tmp), mean(tmp)\n",
    "    \n",
    "    ax[ax_idx].hist(tmp, density = True)\n",
    "#     ax[ax_idx].set_xlim(0, 0.5)\n",
    "    ax[ax_idx].set_ylim(0, 40)\n",
    "    ax[ax_idx].set_title( vari_name[int(idx)], fontweight = 'bold', fontsize=17)\n",
    "    \n",
    "    ax[ax_idx].xaxis.set_tick_params(labelsize=15)\n",
    "    ax[ax_idx].yaxis.set_tick_params(labelsize=15)\n",
    "    \n",
    "    ax[ax_idx].set_xlabel('Attention value', fontweight = 'bold', fontsize=17)\n",
    "    if ax_idx ==0:\n",
    "        ax[ax_idx].set_ylabel('Density', fontweight = 'bold', fontsize=17)\n",
    "    \n",
    "    ax_idx += 1\n",
    "\n",
    "fig.savefig('../../ts_results/figure/energy_dual.eps', bbox_inches='tight')"
   ]
  },
  {
   "cell_type": "code",
   "execution_count": 4,
   "metadata": {},
   "outputs": [
    {
     "name": "stdout",
     "output_type": "stream",
     "text": [
      "rmse 1.111472080874119 0.017999750454308145\n",
      "mae 0.9427874133069872 0.018337017939015755\n"
     ]
    }
   ],
   "source": [
    "#  PM2.5  RETAIN\n",
    "\n",
    "# -- Data -- \n",
    "pkl_file = \"../../ts_results/pickle/pm25_retain.pickle\"\n",
    "pkl_file = open(pkl_file, 'rb')\n",
    "data = pickle.load(pkl_file)\n",
    "\n",
    "rmse = data['rmse']\n",
    "print 'rmse', mean([i['rmse'] for i in rmse]), std([i['rmse'] for i in rmse])\n",
    "print 'mae',  mean([i['mae'] for i in rmse]),  std([i['mae'] for i in rmse])\n"
   ]
  },
  {
   "cell_type": "code",
   "execution_count": 5,
   "metadata": {},
   "outputs": [
    {
     "name": "stdout",
     "output_type": "stream",
     "text": [
      "rmse 0.6687385245825427 0.006220413289078888\n",
      "mae 0.5068904892213677 0.01556708122159307\n"
     ]
    }
   ],
   "source": [
    "#  ENERGY  RETAIN\n",
    "\n",
    "# -- Data -- \n",
    "pkl_file = \"../../ts_results/pickle/energy_retain.pickle\"\n",
    "pkl_file = open(pkl_file, 'rb')\n",
    "data = pickle.load(pkl_file)\n",
    "\n",
    "rmse = data['rmse']\n",
    "print 'rmse', mean([i['rmse'] for i in rmse]), std([i['rmse'] for i in rmse])\n",
    "print 'mae',  mean([i['mae'] for i in rmse]),  std([i['mae'] for i in rmse])\n"
   ]
  },
  {
   "cell_type": "code",
   "execution_count": 6,
   "metadata": {
    "collapsed": true
   },
   "outputs": [],
   "source": [
    "file_dic_ml = {}\n",
    "    \n",
    "file_addr = [\"../../dataset/dataset_ts/air_xtrain.dat\", \\\n",
    "                 \"../../dataset/dataset_ts/air_xtest.dat\",\\\n",
    "                 \"../../dataset/dataset_ts/air_ytrain.dat\", \\\n",
    "                 \"../../dataset/dataset_ts/air_ytest.dat\"]\n",
    "file_dic_ml.update( {\"air\": file_addr} )\n",
    "    \n",
    "file_addr = [\"../../dataset/dataset_ts/energy_xtrain.dat\", \\\n",
    "                 \"../../dataset/dataset_ts/energy_xtest.dat\",\\\n",
    "                 \"../../dataset/dataset_ts/energy_ytrain.dat\", \\\n",
    "                 \"../../dataset/dataset_ts/energy_ytest.dat\"]\n",
    "file_dic_ml.update( {\"energy\": file_addr} )\n",
    "    \n",
    "file_addr = [\"../../dataset/dataset_ts/pm25_xtrain.dat\", \\\n",
    "                 \"../../dataset/dataset_ts/pm25_xtest.dat\",\\\n",
    "                 \"../../dataset/dataset_ts/pm25_ytrain.dat\", \\\n",
    "                 \"../../dataset/dataset_ts/pm25_ytest.dat\"]\n",
    "file_dic_ml.update( {\"pm25\": file_addr} )\n",
    "\n",
    "\n",
    "\n",
    "file_dic_statis = {}\n",
    "    \n",
    "file_addr = [\"../../dataset/dataset_ts/air_xtrain_statis.dat\", \\\n",
    "                 \"../../dataset/dataset_ts/air_xtest_statis.dat\"]\n",
    "file_dic_statis.update( {\"air\": file_addr} )\n",
    "    \n",
    "file_addr = [\"../../dataset/dataset_ts/energy_xtrain_statis.dat\", \\\n",
    "                 \"../../dataset/dataset_ts/energy_xtest_statis.dat\"]\n",
    "file_dic_statis.update( {\"energy\": file_addr} )\n",
    "    \n",
    "file_addr = [\"../../dataset/dataset_ts/pm25_xtrain_statis.dat\", \\\n",
    "                 \"../../dataset/dataset_ts/pm25_xtest_statis.dat\"]\n",
    "file_dic_statis.update( {\"pm25\": file_addr} )\n",
    "\n",
    "file_addr = [\"../../dataset/dataset_ts/plant_xtrain_statis.dat\", \\\n",
    "                 \"../../dataset/dataset_ts/plant_xtest_statis.dat\"]\n",
    "file_dic_statis.update( {\"plant\": file_addr} )"
   ]
  },
  {
   "cell_type": "code",
   "execution_count": 9,
   "metadata": {},
   "outputs": [
    {
     "name": "stdout",
     "output_type": "stream",
     "text": [
      "loss    At epoch 1: loss 38863.144435\n",
      "tr                   train 196.833695\n",
      "ts                    test 159.488495\n",
      "mae                           141.349\n",
      "mape                       7.1749e+06\n",
      "Name: 0, dtype: object\n",
      "[159.488495, 152.327499]\n",
      "[141.34896899999998, 117.10686499999998]\n",
      "RMSE  [152.327499, 157.701767] 157.7971283 1.8608411702419476\n",
      "MAE  [105.877357, 106.490059] 107.1954132 0.6364179280954905\n"
     ]
    }
   ],
   "source": [
    "# PLANT : MV-LSTM errors \n",
    "\n",
    "file_path = \"../../ts_results/plant_plain_att_0.60.001.txt\"\n",
    "\n",
    "dta_df = pd.read_csv( file_path, sep=',', names = ['loss', 'tr', 'ts', 'mae', 'mape'], header = 0 )\n",
    "print dta_df.iloc[0]\n",
    "\n",
    "rmse_ts = [float(tmp[6:]) for tmp in dta_df['ts'] ]\n",
    "print rmse_ts[:2] \n",
    "\n",
    "mae_ts = [float(tmp) for tmp in dta_df['mae'] ]\n",
    "print mae_ts[:2] \n",
    "\n",
    "\n",
    "sort_rmse_ts = sorted(rmse_ts)\n",
    "print 'RMSE ', sort_rmse_ts[:2], mean(sort_rmse_ts[:10]), std(sort_rmse_ts[:10])\n",
    "\n",
    "sort_mae_ts = sorted(mae_ts)\n",
    "print 'MAE ', sort_mae_ts[:2], mean(sort_mae_ts[:10]), std(sort_mae_ts[:10])"
   ]
  },
  {
   "cell_type": "code",
   "execution_count": 8,
   "metadata": {},
   "outputs": [
    {
     "name": "stdout",
     "output_type": "stream",
     "text": [
      "(1354, 9)\n"
     ]
    },
    {
     "data": {
      "text/plain": [
       "[<matplotlib.lines.Line2D at 0x7fdd75c1d650>]"
      ]
     },
     "execution_count": 8,
     "metadata": {},
     "output_type": "execute_result"
    },
    {
     "data": {
      "image/png": "[encoded data removed]",
      "text/plain": [
       "<matplotlib.figure.Figure at 0x7fdd75c848d0>"
      ]
     },
     "metadata": {},
     "output_type": "display_data"
    }
   ],
   "source": [
    "# PLANT : MV-LSTM prediction and truth\n",
    "\n",
    "file_path = \"../../ts_results/plant_mv_att_sig1.dat\"\n",
    "\n",
    "pre = np.load(file_path)\n",
    "print np.shape(pre)\n",
    "\n",
    "col_pre = np.transpose(pre, [1,0])\n",
    "\n",
    "\n",
    "fig, ax = plt.subplots(figsize=(19,4))\n",
    "\n",
    "ax.plot( col_pre[0][200:300] )\n",
    "ax.plot( col_pre[1][200:300] )\n"
   ]
  },
  {
   "cell_type": "code",
   "execution_count": 33,
   "metadata": {},
   "outputs": [
    {
     "name": "stdout",
     "output_type": "stream",
     "text": [
      "loss    At epoch 1: loss 0.209599\n",
      "tr                 train 0.453499\n",
      "ts                  test 0.412334\n",
      "mae                      0.296545\n",
      "mape                     0.069455\n",
      "Name: 0, dtype: object shape: \n",
      "(99, 5)\n",
      "(99,)\n",
      "[0.296545, 0.25613400000000003]\n",
      "rmse:  0.3769485 0.0057286152995291995\n",
      "mae:  0.2565407 0.0060501189583346176\n"
     ]
    }
   ],
   "source": [
    "# ENERGY : MV-LSTM errors \n",
    "\n",
    "file_path = \"../../ts_results/energy_mv_att_0.60.001.txt\"\n",
    "\n",
    "dta_df = pd.read_csv( file_path, sep=',', names = ['loss', 'tr', 'ts', 'mae', 'mape'], header = 0 )\n",
    "print dta_df.iloc[0], 'shape: '\n",
    "print dta_df.shape\n",
    "\n",
    "rmse_ts = [float(tmp[6:]) for tmp in dta_df['ts'] ]\n",
    "print np.shape(rmse_ts)\n",
    "\n",
    "mae_ts = [float(tmp) for tmp in dta_df['mae'] ]\n",
    "print mae_ts[:2] \n",
    "\n",
    "sort_rmse_ts = sorted(rmse_ts)\n",
    "print 'rmse: ', mean(sort_rmse_ts[:10]), std(sort_rmse_ts[:10])\n",
    "\n",
    "sort_mae_ts = sorted(mae_ts)\n",
    "print 'mae: ', mean(sort_mae_ts[:10]), std(sort_mae_ts[:10])"
   ]
  },
  {
   "cell_type": "code",
   "execution_count": 28,
   "metadata": {},
   "outputs": [
    {
     "name": "stdout",
     "output_type": "stream",
     "text": [
      "loss    At epoch 1: loss 0.133646\n",
      "tr                 train 0.362250\n",
      "ts                  test 0.425036\n",
      "mae                       0.31097\n",
      "mape                     0.099776\n",
      "Name: 0, dtype: object\n",
      "[0.425036, 0.432375]\n",
      "[0.31096999999999997, 0.314021]\n",
      "rmse:  0.3403378 0.0011357487222092694\n",
      "mae:  0.22783000000000003 0.002073396199475633\n"
     ]
    }
   ],
   "source": [
    "# PM25 : MV-LSTM errors \n",
    "\n",
    "file_path = \"../../ts_results/pm_mv_0.60.001.txt\"\n",
    "\n",
    "dta_df = pd.read_csv( file_path, sep=',', names = ['loss', 'tr', 'ts', 'mae', 'mape'], header = 0 )\n",
    "print dta_df.iloc[0]\n",
    "\n",
    "rmse_ts = [float(tmp[6:]) for tmp in dta_df['ts'] ]\n",
    "print rmse_ts[:2] \n",
    "\n",
    "mae_ts = [float(tmp) for tmp in dta_df['mae'] ]\n",
    "print mae_ts[:2] \n",
    "\n",
    "sort_rmse_ts = sorted(rmse_ts)\n",
    "print 'rmse: ', mean(sort_rmse_ts[:10]), std(sort_rmse_ts[:10])\n",
    "\n",
    "sort_mae_ts = sorted(mae_ts)\n",
    "print 'mae: ', mean(sort_mae_ts[:10]), std(sort_mae_ts[:10])"
   ]
  },
  {
   "cell_type": "code",
   "execution_count": 39,
   "metadata": {
    "scrolled": false
   },
   "outputs": [
    {
     "name": "stdout",
     "output_type": "stream",
     "text": [
      "(2000, 15)\n",
      "(2000, 15)\n",
      "      truth      pred\n",
      "0  3.912023  4.053327\n",
      "1  3.688880  3.928753\n",
      "2  3.688880  3.760433\n",
      "          0         1         2         3         4         5         6  \\\n",
      "0  0.300542  0.029839  0.047736  0.005728  0.176001  0.002170  0.006832   \n",
      "1  0.296877  0.027954  0.046338  0.005670  0.188954  0.002144  0.006730   \n",
      "2  0.291300  0.025863  0.045090  0.005537  0.207343  0.002113  0.006482   \n",
      "\n",
      "          7         8         9        10        11        12  \n",
      "0  0.002576  0.404001  0.010710  0.006712  0.001109  0.006045  \n",
      "1  0.002548  0.398404  0.010600  0.006686  0.001099  0.005996  \n",
      "2  0.002504  0.389785  0.010407  0.006590  0.001100  0.005885  \n",
      "[['8', 0.41620792956650254], ['0', 0.2986110637038946], ['4', 0.14467664222605525], ['2', 0.05795706220529973]]\n"
     ]
    },
    {
     "data": {
      "image/png": "[encoded data removed]",
      "text/plain": [
       "<matplotlib.figure.Figure at 0x7f3fe4cbe850>"
      ]
     },
     "metadata": {},
     "output_type": "display_data"
    }
   ],
   "source": [
    "# ENERGY : MV-LSTM attention\n",
    "\n",
    "# ganger causal: 1,8\n",
    "num_ex_vari = 13\n",
    "vari_name = ['Kitchen temp.', 'Living room temp.', 'Laundry room temp.', 'Office room temp.',\\\n",
    "             'Bathroom temp.','Building outside temp.', 'Ironing room temp.', 'Teenager room temp.',\\\n",
    "             'Parents room temp.', 'Outside temp.', 'Wind speed', 'Humidity outside', 'Dew point'  ]\n",
    "# T1, Temperature in kitchen area \n",
    "# T2, Temperature in living room area, in Celsius \n",
    "# T3, Temperature in laundry room area \n",
    "# T4, Temperature in office room, in Celsius \n",
    "# T5, Temperature in bathroom, in Celsius \n",
    "# T6, Temperature outside the building (north side), in Celsius \n",
    "# T7, Temperature in ironing room , in Celsius \n",
    "# T8, Temperature in teenager room 2, in Celsius \n",
    "# T9, Temperature in parents room, in Celsius \n",
    "# To, Temperature outside (from Chievres weather station), in Celsius \n",
    "# Pressure (from Chievres weather station), in mm Hg \n",
    "# RH_out, Humidity outside (from Chievres weather station), in % \n",
    "# Wind speed (from Chievres weather station), in m/s \n",
    "# Visibility (from Chievres weather station), in km \n",
    "# Tdewpoint (from Chievres weather station), Â°C \n",
    "\n",
    "\n",
    "py_ts = np.load(\"../../ts_results/energy_mv_att6.dat\")\n",
    "print np.shape(py_ts)\n",
    "\n",
    "cols = ['truth', 'pred'] + [str(i) for i in range(num_ex_vari)]\n",
    "att_cols = [str(i) for i in range(num_ex_vari)]\n",
    "print np.shape(py_ts)\n",
    "py_df = pd.DataFrame( py_ts, columns = cols)\n",
    "\n",
    "print py_df[['truth','pred']].iloc[:3]\n",
    "print py_df[att_cols].iloc[:3]\n",
    "\n",
    "\n",
    "# variate attention distribution\n",
    "att_mean =[]\n",
    "for i in att_cols:\n",
    "    tmp = py_df[i]\n",
    "    att_mean.append([i, mean(tmp)])\n",
    "\n",
    "sort_att_mean = sorted(att_mean, key = lambda x:x[1], reverse= True)\n",
    "print sort_att_mean[:4]\n",
    "\n",
    "\n",
    "# PLOT\n",
    "fig, ax = plt.subplots(1, 4, figsize=(19,4))\n",
    "ax_idx = 0\n",
    "\n",
    "sample_att_mean =  [sort_att_mean[0], sort_att_mean[1], sort_att_mean[2], sort_att_mean[4]]\n",
    "\n",
    "# variate attention distribution\n",
    "for i in sample_att_mean:\n",
    "    \n",
    "    idx = i[0]\n",
    "    \n",
    "    tmp = py_df[idx]\n",
    "    \n",
    "    ax[ax_idx].hist(tmp, density = True)\n",
    "    ax[ax_idx].set_xlim(0, 0.5)\n",
    "    ax[ax_idx].set_ylim(0, 100)\n",
    "    ax[ax_idx].set_title( vari_name[int(idx)], fontweight = 'bold', fontsize=17)\n",
    "    \n",
    "    ax[ax_idx].xaxis.set_tick_params(labelsize=15)\n",
    "    ax[ax_idx].yaxis.set_tick_params(labelsize=15)\n",
    "    \n",
    "    ax[ax_idx].set_xlabel('Attention value', fontweight = 'bold', fontsize=17)\n",
    "    if ax_idx ==0:\n",
    "        ax[ax_idx].set_ylabel('Density', fontweight = 'bold', fontsize=17)\n",
    "\n",
    "    \n",
    "    ax_idx += 1\n",
    "    \n",
    "fig.savefig('../../ts_results/figure/energy_mv.eps', bbox_inches='tight')"
   ]
  },
  {
   "cell_type": "code",
   "execution_count": 38,
   "metadata": {
    "scrolled": false
   },
   "outputs": [
    {
     "name": "stdout",
     "output_type": "stream",
     "text": [
      "(2000, 9)\n",
      "(2000, 9)\n",
      "      truth      pred\n",
      "0  4.248495  4.058376\n",
      "1  4.290460  4.242391\n",
      "2  4.343806  4.247853\n",
      "          0         1         2         3         4         5         6\n",
      "0  0.443736  0.086686  0.164143  0.139480  0.015177  0.091475  0.059302\n",
      "1  0.448109  0.086966  0.163548  0.143059  0.014821  0.089689  0.053807\n",
      "2  0.450870  0.085471  0.163621  0.142187  0.014420  0.090804  0.052626\n",
      "[['0', 0.43822114875912666], ['2', 0.1839078705124557], ['3', 0.14064060382172466], ['1', 0.08301081561669707]]\n"
     ]
    },
    {
     "data": {
      "image/png": "[encoded data removed]",
      "text/plain": [
       "<matplotlib.figure.Figure at 0x7f3fe4faaad0>"
      ]
     },
     "metadata": {},
     "output_type": "display_data"
    }
   ],
   "source": [
    "# PM25 : attention\n",
    "\n",
    "# ganger causal: 0,1,2\n",
    "num_ex_vari = 7\n",
    "vari_name = ['Dew Point', 'Temperature', 'Pressure', 'Cumulated wind speed', \\\n",
    "             'Cumulated hours of snow','Cumulated hours of rain']\n",
    "\n",
    "py_ts = np.load(\"../../ts_results/pm_mv_1.dat\")\n",
    "print np.shape(py_ts)\n",
    "\n",
    "cols = ['truth', 'pred'] + [str(i) for i in range(num_ex_vari)]\n",
    "att_cols = [str(i) for i in range(num_ex_vari)]\n",
    "print np.shape(py_ts)\n",
    "py_df = pd.DataFrame( py_ts, columns = cols)\n",
    "\n",
    "print py_df[['truth','pred']].iloc[:3]\n",
    "print py_df[att_cols].iloc[:3]\n",
    "\n",
    "att_mean =[]\n",
    "for i in att_cols:\n",
    "    tmp = py_df[i]\n",
    "    att_mean.append([i, mean(tmp)])\n",
    "\n",
    "sort_att_mean = sorted(att_mean, key = lambda x:x[1], reverse= True)\n",
    "print sort_att_mean[:4]\n",
    "\n",
    "\n",
    "fig, ax = plt.subplots(1, 4, figsize=(19,4))\n",
    "ax_idx = 0\n",
    "\n",
    "# variate attention distribution\n",
    "for i in sort_att_mean[:4]:\n",
    "    \n",
    "    idx = i[0]\n",
    "    \n",
    "    tmp = py_df[idx]\n",
    "    \n",
    "    ax[ax_idx].hist(tmp, density = True)\n",
    "    ax[ax_idx].set_xlim(0, 0.5)\n",
    "    ax[ax_idx].set_ylim(0, 40)\n",
    "    ax[ax_idx].set_title( vari_name[int(idx)], fontweight = 'bold', fontsize=17)\n",
    "    \n",
    "    ax[ax_idx].xaxis.set_tick_params(labelsize=15)\n",
    "    ax[ax_idx].yaxis.set_tick_params(labelsize=15)\n",
    "    \n",
    "    ax[ax_idx].set_xlabel('Attention value', fontweight = 'bold', fontsize=17)\n",
    "    if ax_idx ==0:\n",
    "        ax[ax_idx].set_ylabel('Density', fontweight = 'bold', fontsize=17)\n",
    "    \n",
    "    ax_idx += 1\n",
    "\n",
    "fig.savefig('../../ts_results/figure/pm_mv.eps', bbox_inches='tight')"
   ]
  },
  {
   "cell_type": "code",
   "execution_count": 7,
   "metadata": {},
   "outputs": [
    {
     "name": "stdout",
     "output_type": "stream",
     "text": [
      "(8200, 7) (2200, 7)\n",
      "stationary prepro:  1 2.96860450558e-30 \n",
      "\n",
      "stationary prepro:  1 0.0 \n",
      "\n",
      "stationary prepro:  0 0.000446514960092 \n",
      "\n",
      "stationary prepro:  0 3.06364332043e-25 \n",
      "\n",
      "stationary prepro:  0 0.0 \n",
      "\n",
      "stationary prepro:  0 8.02285016073e-29 \n",
      "\n",
      "stationary prepro:  0 2.17604493132e-20 \n",
      "\n",
      "(8199, 7)\n",
      "best lag:  {'fpe': 25, 'hqic': 15, 'bic': 3, 'aic': 25}\n",
      "[0, 1, 2]\n"
     ]
    }
   ],
   "source": [
    "# load data for statistical analysis\n",
    "\n",
    "# feature_cols = ['DEWP', 'TEMP', 'PRES', 'Iws', 'Is', 'Ir']\n",
    "\n",
    "# DEWP: Dew Point (â„ƒ) \n",
    "# TEMP: Temperature (â„ƒ) \n",
    "# PRES: Pressure (hPa) \n",
    "# cbwd: Combined wind direction \n",
    "# Iws: Cumulated wind speed (m/s) \n",
    "# Is: Cumulated hours of snow \n",
    "# Ir: Cumulated hours of rain \n",
    "\n",
    "# the last column is the targe variable \n",
    "dataset_str = 'pm25'\n",
    "xtr = np.load(file_dic_statis[dataset_str][0])\n",
    "xts = np.load(file_dic_statis[dataset_str][1])\n",
    "print np.shape(xtr), np.shape(xts)\n",
    "\n",
    "\n",
    "# stationarize time series \n",
    "sta_dta = multi_ts_stationarize( np.asarray(xtr) )\n",
    "print np.shape(sta_dta)\n",
    "\n",
    "# variable dependency\n",
    "max_order = 200\n",
    "VAR_res,lag = causality_VAR(sta_dta, max_order)\n",
    "            \n",
    "print causality_one(VAR_res, sta_dta, 6)\n",
    "\n",
    "#print causality_pairwise(VAR_res, post_ts)"
   ]
  },
  {
   "cell_type": "code",
   "execution_count": 8,
   "metadata": {},
   "outputs": [
    {
     "name": "stdout",
     "output_type": "stream",
     "text": [
      "(8200, 14) (2200, 14)\n",
      "stationary prepro:  0 1.53873681466e-08 \n",
      "\n",
      "stationary prepro:  0 2.67332352376e-10 \n",
      "\n",
      "stationary prepro:  0 6.22084629443e-06 \n",
      "\n",
      "stationary prepro:  0 7.65852979756e-08 \n",
      "\n",
      "stationary prepro:  0 4.56317841218e-09 \n",
      "\n",
      "stationary prepro:  0 3.12028393606e-05 \n",
      "\n",
      "stationary prepro:  0 0.00215212148204 \n",
      "\n",
      "stationary prepro:  0 0.000159225901517 \n",
      "\n",
      "stationary prepro:  1 0.0 \n",
      "\n",
      "stationary prepro:  0 8.14779094622e-05 \n",
      "\n",
      "stationary prepro:  0 8.95657918297e-07 \n",
      "\n",
      "stationary prepro:  0 9.36092515117e-17 \n",
      "\n",
      "stationary prepro:  0 0.00688669851617 \n",
      "\n",
      "stationary prepro:  0 4.24157747612e-26 \n",
      "\n",
      "(8199, 14)\n",
      "best lag:  {'fpe': 26, 'hqic': 14, 'bic': 8, 'aic': 26}\n",
      "[1, 8]\n"
     ]
    }
   ],
   "source": [
    "# load data for statistical analysis\n",
    "\n",
    "# feature_cols = [ 'T1', 'T2', 'T3', 'T4', 'T5', 'T6', 'T7', 'T8', 'T9' , 'T_out', 'Windspeed', 'RH_out', \\\n",
    "# 'Tdewpoint' \n",
    "\n",
    "\n",
    "# -- target series\n",
    "# Appliances, energy use in Wh \n",
    "# lights, energy use of light fixtures in the house in Wh \n",
    "\n",
    "# -- exgoneous series \n",
    "# T1, Temperature in kitchen area, in Celsius \n",
    "# T2, Temperature in living room area, in Celsius \n",
    "# T3, Temperature in laundry room area \n",
    "# T4, Temperature in office room, in Celsius \n",
    "# T5, Temperature in bathroom, in Celsius \n",
    "# T6, Temperature outside the building (north side), in Celsius \n",
    "# T7, Temperature in ironing room , in Celsius \n",
    "# T8, Temperature in teenager room 2, in Celsius \n",
    "# T9, Temperature in parents room, in Celsius \n",
    "# To, Temperature outside (from Chievres weather station), in Celsius \n",
    "# Pressure (from Chievres weather station), in mm Hg \n",
    "# RH_out, Humidity outside (from Chievres weather station), in % \n",
    "# Wind speed (from Chievres weather station), in m/s \n",
    "# Visibility (from Chievres weather station), in km \n",
    "# Tdewpoint (from Chievres weather station), Â°C \n",
    "\n",
    "\n",
    "# the last column is the targe variable \n",
    "dataset_str = 'energy'\n",
    "xtr = np.load(file_dic_statis[dataset_str][0])\n",
    "xts = np.load(file_dic_statis[dataset_str][1])\n",
    "print np.shape(xtr), np.shape(xts)\n",
    "\n",
    "# stationarize time series \n",
    "sta_dta = multi_ts_stationarize( np.asarray(xtr) )\n",
    "print np.shape(sta_dta)\n",
    "\n",
    "# variable dependency\n",
    "max_order = 200\n",
    "VAR_res,lag = causality_VAR(sta_dta, max_order)\n",
    "            \n",
    "print causality_one(VAR_res, sta_dta, 13)\n",
    "\n",
    "#print causality_pairwise(VAR_res, post_ts)"
   ]
  },
  {
   "cell_type": "code",
   "execution_count": 9,
   "metadata": {},
   "outputs": [
    {
     "name": "stdout",
     "output_type": "stream",
     "text": [
      "(5400, 8) (1554, 8)\n",
      "stationary prepro:  1 3.89605902543e-30 \n",
      "\n",
      "stationary prepro:  0 5.8135957626e-09 \n",
      "\n",
      "stationary prepro:  0 0.00897549257369 \n",
      "\n",
      "stationary prepro:  0 5.50436184832e-05 \n",
      "\n",
      "stationary prepro:  1 0.0 \n",
      "\n",
      "stationary prepro:  0 9.23194064666e-19 \n",
      "\n",
      "stationary prepro:  0 2.9333505289e-20 \n",
      "\n",
      "stationary prepro:  0 8.96960810192e-09 \n",
      "\n",
      "(5399, 8)\n",
      "best lag:  {'fpe': 39, 'hqic': 20, 'bic': 19, 'aic': 39}\n",
      "[0, 1, 2, 4]\n"
     ]
    }
   ],
   "source": [
    "# load data for statistical analysis\n",
    "\n",
    "# feature_cols = ['p-temperature', 'cloudcover', 'dewpoint', 'humidity', 'temperature', 'windbearing', 'windspeed']\n",
    "\n",
    "\n",
    "# the last column is the targe variable \n",
    "dataset_str = 'plant'\n",
    "xtr = np.load(file_dic_statis[dataset_str][0])\n",
    "xts = np.load(file_dic_statis[dataset_str][1])\n",
    "print np.shape(xtr), np.shape(xts)\n",
    "\n",
    "# stationarize time series \n",
    "sta_dta = multi_ts_stationarize( np.asarray(xtr) )\n",
    "print np.shape(sta_dta)\n",
    "\n",
    "# variable dependency\n",
    "max_order = 200\n",
    "VAR_res,lag = causality_VAR(sta_dta, max_order)\n",
    "            \n",
    "print causality_one(VAR_res, sta_dta, 7)\n",
    "\n",
    "#print causality_pairwise(VAR_res, post_ts)"
   ]
  },
  {
   "cell_type": "code",
   "execution_count": null,
   "metadata": {
    "collapsed": true
   },
   "outputs": [],
   "source": [
    "# statisical test \n",
    "trans_dta = np.transpose(xtr, [1,0])\n",
    "for i in range(np.shape(xtr)[1]):\n",
    "    print '--', i, stationary_test( trans_dta[i] )"
   ]
  },
  {
   "cell_type": "code",
   "execution_count": null,
   "metadata": {
    "collapsed": true
   },
   "outputs": [],
   "source": [
    "# temporal dependency\n",
    "\n",
    "temporal_detect_individual(6, xtr, 200)\n",
    "\n",
    "# auto-correlation, partial auto-correlation, cross correlation \n"
   ]
  }
 ],
 "metadata": {
  "kernelspec": {
   "display_name": "Python 2",
   "language": "python",
   "name": "python2"
  },
  "language_info": {
   "codemirror_mode": {
    "name": "ipython",
    "version": 2
   },
   "file_extension": ".py",
   "mimetype": "text/x-python",
   "name": "python",
   "nbconvert_exporter": "python",
   "pygments_lexer": "ipython2",
   "version": "2.7.12"
  }
 },
 "nbformat": 4,
 "nbformat_minor": 1
}
