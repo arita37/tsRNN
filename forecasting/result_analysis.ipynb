{
 "cells": [
  {
   "cell_type": "code",
   "execution_count": 3,
   "metadata": {},
   "outputs": [],
   "source": [
    "# data processing packages\n",
    "import numpy as np   \n",
    "import pandas as pd \n",
    "from pandas import *\n",
    "from numpy import *\n",
    "\n",
    "from scipy import stats # look at scipy\n",
    "from scipy import linalg\n",
    "from scipy import *\n",
    " \n",
    "%matplotlib inline    \n",
    "import matplotlib as mplt\n",
    "from matplotlib import cm\n",
    "import matplotlib.pyplot as plt\n",
    "import matplotlib.gridspec as gridspec\n",
    "\n",
    "import IPython\n",
    "from IPython.display import display\n",
    "\n",
    "import matplotlib\n",
    "from matplotlib.ticker import FuncFormatter\n",
    "import matplotlib.pyplot as plt\n",
    "# matplotlib.style.use('ggplot')\n",
    "import itertools\n",
    "\n",
    "import random\n",
    "\n",
    "# local packages \n",
    "from utils_causal import *"
   ]
  },
  {
   "cell_type": "code",
   "execution_count": null,
   "metadata": {
    "collapsed": true
   },
   "outputs": [],
   "source": [
    "# TO DO\n",
    "# \n",
    "# Kalman \n",
    "# structural bayeisan time series\n",
    "# feature extration on time series\n"
   ]
  },
  {
   "cell_type": "code",
   "execution_count": 4,
   "metadata": {
    "collapsed": true
   },
   "outputs": [],
   "source": [
    "file_dic_ml = {}\n",
    "    \n",
    "file_addr = [\"../../dataset/dataset_ts/air_xtrain.dat\", \\\n",
    "                 \"../../dataset/dataset_ts/air_xtest.dat\",\\\n",
    "                 \"../../dataset/dataset_ts/air_ytrain.dat\", \\\n",
    "                 \"../../dataset/dataset_ts/air_ytest.dat\"]\n",
    "file_dic_ml.update( {\"air\": file_addr} )\n",
    "    \n",
    "file_addr = [\"../../dataset/dataset_ts/energy_xtrain.dat\", \\\n",
    "                 \"../../dataset/dataset_ts/energy_xtest.dat\",\\\n",
    "                 \"../../dataset/dataset_ts/energy_ytrain.dat\", \\\n",
    "                 \"../../dataset/dataset_ts/energy_ytest.dat\"]\n",
    "file_dic_ml.update( {\"energy\": file_addr} )\n",
    "    \n",
    "file_addr = [\"../../dataset/dataset_ts/pm25_xtrain.dat\", \\\n",
    "                 \"../../dataset/dataset_ts/pm25_xtest.dat\",\\\n",
    "                 \"../../dataset/dataset_ts/pm25_ytrain.dat\", \\\n",
    "                 \"../../dataset/dataset_ts/pm25_ytest.dat\"]\n",
    "file_dic_ml.update( {\"pm25\": file_addr} )\n",
    "\n",
    "\n",
    "\n",
    "file_dic_statis = {}\n",
    "    \n",
    "file_addr = [\"../../dataset/dataset_ts/air_xtrain_statis.dat\", \\\n",
    "                 \"../../dataset/dataset_ts/air_xtest_statis.dat\"]\n",
    "file_dic_statis.update( {\"air\": file_addr} )\n",
    "    \n",
    "file_addr = [\"../../dataset/dataset_ts/energy_xtrain_statis.dat\", \\\n",
    "                 \"../../dataset/dataset_ts/energy_xtest_statis.dat\"]\n",
    "file_dic_statis.update( {\"energy\": file_addr} )\n",
    "    \n",
    "file_addr = [\"../../dataset/dataset_ts/pm25_xtrain_statis.dat\", \\\n",
    "                 \"../../dataset/dataset_ts/pm25_xtest_statis.dat\"]\n",
    "file_dic_statis.update( {\"pm25\": file_addr} )"
   ]
  },
  {
   "cell_type": "code",
   "execution_count": 5,
   "metadata": {},
   "outputs": [
    {
     "name": "stdout",
     "output_type": "stream",
     "text": [
      "(5000, 3) (2000, 3)\n"
     ]
    }
   ],
   "source": [
    "# load data for statistical analysis\n",
    "\n",
    "# the last column is the targe variable \n",
    "dataset_str = 'air'\n",
    "xtr = np.load(file_dic_statis[dataset_str][0])\n",
    "xts = np.load(file_dic_statis[dataset_str][1])\n",
    "\n",
    "print np.shape(xtr), np.shape(xts)"
   ]
  },
  {
   "cell_type": "code",
   "execution_count": 14,
   "metadata": {},
   "outputs": [
    {
     "data": {
      "text/plain": [
       "[{'aic': 193, 'bic': 26, 'fpe': 193, 'hqic': 49},\n",
       " {'aic': 178, 'bic': 26, 'fpe': 178, 'hqic': 26}]"
      ]
     },
     "execution_count": 14,
     "metadata": {},
     "output_type": "execute_result"
    }
   ],
   "source": [
    "# temporal dependency\n",
    "\n",
    "temporal_detect_individual(2, xtr, 200)"
   ]
  },
  {
   "cell_type": "code",
   "execution_count": null,
   "metadata": {
    "collapsed": true
   },
   "outputs": [],
   "source": [
    "# auto-correlation, partial auto-correlation, cross correlation \n",
    "\n"
   ]
  },
  {
   "cell_type": "code",
   "execution_count": 6,
   "metadata": {},
   "outputs": [
    {
     "name": "stdout",
     "output_type": "stream",
     "text": [
      "best lag:  {'fpe': 178, 'hqic': 26, 'bic': 26, 'aic': 178}\n",
      "[0]\n"
     ]
    }
   ],
   "source": [
    "# variable dependency\n",
    "\n",
    "max_order = 300\n",
    "VAR_res,lag = causality_VAR(xtr, max_order)\n",
    "            \n",
    "print causality_one(VAR_res, xtr, 2)\n",
    "\n",
    "#print causality_pairwise(VAR_res, post_ts)\n"
   ]
  }
 ],
 "metadata": {
  "kernelspec": {
   "display_name": "Python 2",
   "language": "python",
   "name": "python2"
  },
  "language_info": {
   "codemirror_mode": {
    "name": "ipython",
    "version": 2
   },
   "file_extension": ".py",
   "mimetype": "text/x-python",
   "name": "python",
   "nbconvert_exporter": "python",
   "pygments_lexer": "ipython2",
   "version": "2.7.12"
  }
 },
 "nbformat": 4,
 "nbformat_minor": 1
}
