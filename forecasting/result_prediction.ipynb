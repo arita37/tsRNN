{
 "cells": [
  {
   "cell_type": "code",
   "execution_count": 1,
   "metadata": {},
   "outputs": [
    {
     "name": "stderr",
     "output_type": "stream",
     "text": [
      "/home/guo/.local/lib/python2.7/site-packages/statsmodels/compat/pandas.py:56: FutureWarning: The pandas.core.datetools module is deprecated and will be removed in a future version. Please use the pandas.tseries module instead.\n",
      "  from pandas.core import datetools\n",
      "/usr/local/lib/python2.7/dist-packages/h5py/__init__.py:36: FutureWarning: Conversion of the second argument of issubdtype from `float` to `np.floating` is deprecated. In future, it will be treated as `np.float64 == np.dtype(float).type`.\n",
      "  from ._conv import register_converters as _register_converters\n",
      "Using TensorFlow backend.\n"
     ]
    }
   ],
   "source": [
    "# data processing packages\n",
    "import numpy as np   \n",
    "import pandas as pd \n",
    "from pandas import *\n",
    "from numpy import *\n",
    "\n",
    "from scipy import stats # look at scipy\n",
    "from scipy import linalg\n",
    "from scipy import *\n",
    " \n",
    "%matplotlib inline    \n",
    "import matplotlib as mplt\n",
    "from matplotlib import cm\n",
    "import matplotlib.pyplot as plt\n",
    "import matplotlib.gridspec as gridspec\n",
    "\n",
    "import IPython\n",
    "from IPython.display import display\n",
    "\n",
    "import matplotlib\n",
    "from matplotlib.ticker import FuncFormatter\n",
    "import matplotlib.pyplot as plt\n",
    "# matplotlib.style.use('ggplot')\n",
    "import itertools\n",
    "\n",
    "import random\n",
    "\n",
    "# local packages \n",
    "from utils_causal import *\n",
    "\n",
    "import pickle"
   ]
  },
  {
   "cell_type": "code",
   "execution_count": null,
   "metadata": {
    "collapsed": true
   },
   "outputs": [],
   "source": [
    "# TO DO\n",
    "# \n",
    "# Kalman \n",
    "# structural bayeisan time series\n",
    "# feature extration on time series\n"
   ]
  },
  {
   "cell_type": "code",
   "execution_count": 4,
   "metadata": {},
   "outputs": [
    {
     "name": "stdout",
     "output_type": "stream",
     "text": [
      "[{u'mape': inf, u'mae': 118.89532926550996, u'val_step loss': 23168.84392886817, u'rmse': 152.21315235979165}, {u'mape': inf, u'mae': 118.89532926550996, u'val_step loss': 23168.84392886817, u'rmse': 152.21315235979165}, {u'mape': inf, u'mae': 139.19336218108455, u'val_step loss': 25213.745848527513, u'rmse': 158.7883685567306}, {u'mape': inf, u'mae': 102.13550883452332, u'val_step loss': 26119.29254177437, u'rmse': 161.61463993628212}, {u'mape': inf, u'mae': 162.09156470249462, u'val_step loss': 31929.295201717134, u'rmse': 178.68770265742504}, {u'mape': inf, u'mae': 152.53454946001312, u'val_step loss': 37531.822112721566, u'rmse': 193.73131603099182}, {u'mape': inf, u'mae': 165.80182923092624, u'val_step loss': 39515.4072366599, u'rmse': 198.78482699516695}, {u'mape': inf, u'mae': 161.35612042158004, u'val_step loss': 39690.65605959195, u'rmse': 199.2251369642946}, {u'mape': inf, u'mae': 164.72220598753304, u'val_step loss': 39762.48210741322, u'rmse': 199.40532229042503}, {u'mape': inf, u'mae': 165.99543147971042, u'val_step loss': 39939.69827247969, u'rmse': 199.8491862944558}]\n",
      "rmse 179.4512804445355 20.031138648994173\n",
      "mae 145.16212308288854 22.61112518470544\n"
     ]
    }
   ],
   "source": [
    "#  Plant  Dual\n",
    "\n",
    "# -- Data -- \n",
    "pkl_file = \"../../ts_results/pickle/plant_dual.pickle\"\n",
    "pkl_file = open(pkl_file, 'rb')\n",
    "data = pickle.load(pkl_file)\n",
    "\n",
    "att = data['attention']\n",
    "rmse = data['rmse']\n",
    "\n",
    "print rmse\n",
    "\n",
    "print 'rmse', mean([i['rmse'] for i in rmse]), std([i['rmse'] for i in rmse])\n",
    "print 'mae',  mean([i['mae'] for i in rmse]),  std([i['mae'] for i in rmse])"
   ]
  },
  {
   "cell_type": "code",
   "execution_count": 41,
   "metadata": {},
   "outputs": [
    {
     "name": "stdout",
     "output_type": "stream",
     "text": [
      "rmse 0.3550972100169377 0.002666043913794741\n",
      "mae 0.24777184127553947 0.002857704487856903\n",
      "[[4, 0.6981583], [5, 0.15599783], [3, 0.09633694], [1, 0.031105526]]\n",
      "(2000,) 0.6981583\n",
      "(2000,) 0.15599783\n",
      "(2000,) 0.09633694\n",
      "(2000,) 0.031105526\n"
     ]
    },
    {
     "data": {
      "image/png": "[encoded data removed]",
      "text/plain": [
       "<matplotlib.figure.Figure at 0x7f3fe52dced0>"
      ]
     },
     "metadata": {},
     "output_type": "display_data"
    }
   ],
   "source": [
    "#  PM2.5  Dual\n",
    "\n",
    "# -- Data -- \n",
    "pkl_file = \"../../ts_results/pickle/pm25_dual.pickle\"\n",
    "pkl_file = open(pkl_file, 'rb')\n",
    "data = pickle.load(pkl_file)\n",
    "\n",
    "att = data['attention']\n",
    "rmse = data['rmse']\n",
    "\n",
    "print 'rmse', mean([i['rmse'] for i in rmse]), std([i['rmse'] for i in rmse])\n",
    "print 'mae',  mean([i['mae'] for i in rmse]),  std([i['mae'] for i in rmse])\n",
    "\n",
    "# ganger causal: 0,1,2\n",
    "num_ex_vari = 7\n",
    "vari_name = ['Dew Point', 'Temperature', 'Pressure', 'Cumulated wind speed', \\\n",
    "             'Cumulated hours of snow','Cumulated hours of rain']\n",
    "\n",
    "\n",
    "# #  --- rank variables according to attention ---\n",
    "# np.shape(att)\n",
    "# att = np.transpose(att,[1,0])\n",
    "\n",
    "# att_mean =[]\n",
    "# for i in range(num_ex_vari-1):\n",
    "#     tmp = att[i]\n",
    "#     att_mean.append([i, mean(tmp)])\n",
    "\n",
    "# sort_att_mean = sorted(att_mean, key = lambda x:x[1], reverse= True)\n",
    "# print sort_att_mean[:4]\n",
    "\n"
   ]
  },
  {
   "cell_type": "code",
   "execution_count": 40,
   "metadata": {},
   "outputs": [
    {
     "name": "stdout",
     "output_type": "stream",
     "text": [
      "rmse 0.3711821328239959 0.005928918496652915\n",
      "mae 0.24878121366912032 0.005741588148647269\n",
      "[[9, 0.13146618], [5, 0.12250754], [11, 0.110023275], [1, 0.109782405]]\n",
      "(2000,) 0.13146618\n",
      "(2000,) 0.12250754\n",
      "(2000,) 0.110023275\n",
      "(2000,) 0.109782405\n"
     ]
    },
    {
     "data": {
      "image/png": "[encoded data removed]",
      "text/plain": [
       "<matplotlib.figure.Figure at 0x7f3fe7b1a650>"
      ]
     },
     "metadata": {},
     "output_type": "display_data"
    }
   ],
   "source": [
    "# ENERGY Dual\n",
    "pkl_file = \"../../ts_results/pickle/energy_dual.pickle\"\n",
    "pkl_file = open(pkl_file, 'rb')\n",
    "\n",
    "data = pickle.load(pkl_file)\n",
    "att = data['attention']\n",
    "rmse = data['rmse']\n",
    "\n",
    "print 'rmse', mean([i['rmse'] for i in rmse]), std([i['rmse'] for i in rmse])\n",
    "print 'mae',  mean([i['mae'] for i in rmse]),  std([i['mae'] for i in rmse])\n",
    "\n",
    "\n",
    "#  --- rank variables according to attention ---\n",
    "np.shape(att)\n",
    "att = np.transpose(att,[1,0])\n",
    "\n",
    "att_mean =[]\n",
    "for i in range(num_ex_vari-1):\n",
    "    tmp = att[i]\n",
    "    att_mean.append([i, mean(tmp)])\n",
    "\n",
    "sort_att_mean = sorted(att_mean, key = lambda x:x[1], reverse= True)\n",
    "print sort_att_mean[:4]\n",
    "\n",
    "\n",
    "# ganger causal: 1,8\n",
    "num_ex_vari = 13\n",
    "vari_name = ['Kitchen temp.', 'Living room temp.', 'Laundry room temp.', 'Office room temp.',\\\n",
    "             'Bathroom temp.','Building outside temp.', 'Ironing room temp.', 'Teenager room temp.',\\\n",
    "             'Parents room temp.', 'Outside temp.', 'Wind speed', 'Humidity outside', 'Dew point'  ]\n"
   ]
  },
  {
   "cell_type": "code",
   "execution_count": 4,
   "metadata": {},
   "outputs": [
    {
     "name": "stdout",
     "output_type": "stream",
     "text": [
      "rmse 1.111472080874119 0.017999750454308145\n",
      "mae 0.9427874133069872 0.018337017939015755\n"
     ]
    }
   ],
   "source": [
    "#  PM2.5  RETAIN\n",
    "\n",
    "# -- Data -- \n",
    "pkl_file = \"../../ts_results/pickle/pm25_retain.pickle\"\n",
    "pkl_file = open(pkl_file, 'rb')\n",
    "data = pickle.load(pkl_file)\n",
    "\n",
    "rmse = data['rmse']\n",
    "print 'rmse', mean([i['rmse'] for i in rmse]), std([i['rmse'] for i in rmse])\n",
    "print 'mae',  mean([i['mae'] for i in rmse]),  std([i['mae'] for i in rmse])\n"
   ]
  },
  {
   "cell_type": "code",
   "execution_count": 5,
   "metadata": {},
   "outputs": [
    {
     "name": "stdout",
     "output_type": "stream",
     "text": [
      "rmse 0.6687385245825427 0.006220413289078888\n",
      "mae 0.5068904892213677 0.01556708122159307\n"
     ]
    }
   ],
   "source": [
    "#  ENERGY  RETAIN\n",
    "\n",
    "# -- Data -- \n",
    "pkl_file = \"../../ts_results/pickle/energy_retain.pickle\"\n",
    "pkl_file = open(pkl_file, 'rb')\n",
    "data = pickle.load(pkl_file)\n",
    "\n",
    "rmse = data['rmse']\n",
    "print 'rmse', mean([i['rmse'] for i in rmse]), std([i['rmse'] for i in rmse])\n",
    "print 'mae',  mean([i['mae'] for i in rmse]),  std([i['mae'] for i in rmse])\n"
   ]
  },
  {
   "cell_type": "code",
   "execution_count": 6,
   "metadata": {
    "collapsed": true
   },
   "outputs": [],
   "source": [
    "# MV-LSTM parameters for prediction error analysis\n",
    "\n",
    "file_dic_ml = {}\n",
    "    \n",
    "file_addr = [\"../../dataset/dataset_ts/air_xtrain.dat\", \\\n",
    "                 \"../../dataset/dataset_ts/air_xtest.dat\",\\\n",
    "                 \"../../dataset/dataset_ts/air_ytrain.dat\", \\\n",
    "                 \"../../dataset/dataset_ts/air_ytest.dat\"]\n",
    "file_dic_ml.update( {\"air\": file_addr} )\n",
    "    \n",
    "file_addr = [\"../../dataset/dataset_ts/energy_xtrain.dat\", \\\n",
    "                 \"../../dataset/dataset_ts/energy_xtest.dat\",\\\n",
    "                 \"../../dataset/dataset_ts/energy_ytrain.dat\", \\\n",
    "                 \"../../dataset/dataset_ts/energy_ytest.dat\"]\n",
    "file_dic_ml.update( {\"energy\": file_addr} )\n",
    "    \n",
    "file_addr = [\"../../dataset/dataset_ts/pm25_xtrain.dat\", \\\n",
    "                 \"../../dataset/dataset_ts/pm25_xtest.dat\",\\\n",
    "                 \"../../dataset/dataset_ts/pm25_ytrain.dat\", \\\n",
    "                 \"../../dataset/dataset_ts/pm25_ytest.dat\"]\n",
    "file_dic_ml.update( {\"pm25\": file_addr} )\n",
    "\n",
    "\n",
    "\n",
    "file_dic_statis = {}\n",
    "    \n",
    "file_addr = [\"../../dataset/dataset_ts/air_xtrain_statis.dat\", \\\n",
    "                 \"../../dataset/dataset_ts/air_xtest_statis.dat\"]\n",
    "file_dic_statis.update( {\"air\": file_addr} )\n",
    "    \n",
    "file_addr = [\"../../dataset/dataset_ts/energy_xtrain_statis.dat\", \\\n",
    "                 \"../../dataset/dataset_ts/energy_xtest_statis.dat\"]\n",
    "file_dic_statis.update( {\"energy\": file_addr} )\n",
    "    \n",
    "file_addr = [\"../../dataset/dataset_ts/pm25_xtrain_statis.dat\", \\\n",
    "                 \"../../dataset/dataset_ts/pm25_xtest_statis.dat\"]\n",
    "file_dic_statis.update( {\"pm25\": file_addr} )\n",
    "\n",
    "file_addr = [\"../../dataset/dataset_ts/plant_xtrain_statis.dat\", \\\n",
    "                 \"../../dataset/dataset_ts/plant_xtest_statis.dat\"]\n",
    "file_dic_statis.update( {\"plant\": file_addr} )"
   ]
  },
  {
   "cell_type": "code",
   "execution_count": 9,
   "metadata": {},
   "outputs": [
    {
     "name": "stdout",
     "output_type": "stream",
     "text": [
      "loss    At epoch 1: loss 38863.144435\n",
      "tr                   train 196.833695\n",
      "ts                    test 159.488495\n",
      "mae                           141.349\n",
      "mape                       7.1749e+06\n",
      "Name: 0, dtype: object\n",
      "[159.488495, 152.327499]\n",
      "[141.34896899999998, 117.10686499999998]\n",
      "RMSE  [152.327499, 157.701767] 157.7971283 1.8608411702419476\n",
      "MAE  [105.877357, 106.490059] 107.1954132 0.6364179280954905\n"
     ]
    }
   ],
   "source": [
    "# PLANT : MV-LSTM errors \n",
    "\n",
    "file_path = \"../../ts_results/plant_plain_att_0.60.001.txt\"\n",
    "\n",
    "dta_df = pd.read_csv( file_path, sep=',', names = ['loss', 'tr', 'ts', 'mae', 'mape'], header = 0 )\n",
    "print dta_df.iloc[0]\n",
    "\n",
    "rmse_ts = [float(tmp[6:]) for tmp in dta_df['ts'] ]\n",
    "print rmse_ts[:2] \n",
    "\n",
    "mae_ts = [float(tmp) for tmp in dta_df['mae'] ]\n",
    "print mae_ts[:2] \n",
    "\n",
    "sort_rmse_ts = sorted(rmse_ts)\n",
    "print 'RMSE ', sort_rmse_ts[:2], mean(sort_rmse_ts[:10]), std(sort_rmse_ts[:10])\n",
    "\n",
    "sort_mae_ts = sorted(mae_ts)\n",
    "print 'MAE ', sort_mae_ts[:2], mean(sort_mae_ts[:10]), std(sort_mae_ts[:10])"
   ]
  },
  {
   "cell_type": "code",
   "execution_count": 33,
   "metadata": {},
   "outputs": [
    {
     "name": "stdout",
     "output_type": "stream",
     "text": [
      "loss    At epoch 1: loss 0.209599\n",
      "tr                 train 0.453499\n",
      "ts                  test 0.412334\n",
      "mae                      0.296545\n",
      "mape                     0.069455\n",
      "Name: 0, dtype: object shape: \n",
      "(99, 5)\n",
      "(99,)\n",
      "[0.296545, 0.25613400000000003]\n",
      "rmse:  0.3769485 0.0057286152995291995\n",
      "mae:  0.2565407 0.0060501189583346176\n"
     ]
    }
   ],
   "source": [
    "# ENERGY : MV-LSTM errors \n",
    "\n",
    "file_path = \"../../ts_results/energy_mv_att_0.60.001.txt\"\n",
    "\n",
    "dta_df = pd.read_csv( file_path, sep=',', names = ['loss', 'tr', 'ts', 'mae', 'mape'], header = 0 )\n",
    "print dta_df.iloc[0], 'shape: '\n",
    "print dta_df.shape\n",
    "\n",
    "rmse_ts = [float(tmp[6:]) for tmp in dta_df['ts'] ]\n",
    "print np.shape(rmse_ts)\n",
    "\n",
    "mae_ts = [float(tmp) for tmp in dta_df['mae'] ]\n",
    "print mae_ts[:2] \n",
    "\n",
    "sort_rmse_ts = sorted(rmse_ts)\n",
    "print 'rmse: ', mean(sort_rmse_ts[:10]), std(sort_rmse_ts[:10])\n",
    "\n",
    "sort_mae_ts = sorted(mae_ts)\n",
    "print 'mae: ', mean(sort_mae_ts[:10]), std(sort_mae_ts[:10])"
   ]
  },
  {
   "cell_type": "code",
   "execution_count": 28,
   "metadata": {},
   "outputs": [
    {
     "name": "stdout",
     "output_type": "stream",
     "text": [
      "loss    At epoch 1: loss 0.133646\n",
      "tr                 train 0.362250\n",
      "ts                  test 0.425036\n",
      "mae                       0.31097\n",
      "mape                     0.099776\n",
      "Name: 0, dtype: object\n",
      "[0.425036, 0.432375]\n",
      "[0.31096999999999997, 0.314021]\n",
      "rmse:  0.3403378 0.0011357487222092694\n",
      "mae:  0.22783000000000003 0.002073396199475633\n"
     ]
    }
   ],
   "source": [
    "# PM25 : MV-LSTM errors \n",
    "\n",
    "file_path = \"../../ts_results/pm_mv_0.60.001.txt\"\n",
    "\n",
    "dta_df = pd.read_csv( file_path, sep=',', names = ['loss', 'tr', 'ts', 'mae', 'mape'], header = 0 )\n",
    "print dta_df.iloc[0]\n",
    "\n",
    "rmse_ts = [float(tmp[6:]) for tmp in dta_df['ts'] ]\n",
    "print rmse_ts[:2] \n",
    "\n",
    "mae_ts = [float(tmp) for tmp in dta_df['mae'] ]\n",
    "print mae_ts[:2] \n",
    "\n",
    "sort_rmse_ts = sorted(rmse_ts)\n",
    "print 'rmse: ', mean(sort_rmse_ts[:10]), std(sort_rmse_ts[:10])\n",
    "\n",
    "sort_mae_ts = sorted(mae_ts)\n",
    "print 'mae: ', mean(sort_mae_ts[:10]), std(sort_mae_ts[:10])"
   ]
  }
 ],
 "metadata": {
  "kernelspec": {
   "display_name": "Python 2",
   "language": "python",
   "name": "python2"
  },
  "language_info": {
   "codemirror_mode": {
    "name": "ipython",
    "version": 2
   },
   "file_extension": ".py",
   "mimetype": "text/x-python",
   "name": "python",
   "nbconvert_exporter": "python",
   "pygments_lexer": "ipython2",
   "version": "2.7.12"
  }
 },
 "nbformat": 4,
 "nbformat_minor": 1
}
