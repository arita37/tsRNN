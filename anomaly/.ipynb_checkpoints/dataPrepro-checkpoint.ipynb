{
 "cells": [
  {
   "cell_type": "code",
   "execution_count": null,
   "metadata": {
    "collapsed": true
   },
   "outputs": [],
   "source": [
    "# baseline\n",
    "\n",
    "#  GP\n",
    "#  S-ARIMA\n",
    "#  SVR\n",
    "\n",
    "\n",
    "#  RF\n",
    "#  GBT\n",
    "#  xgboosted \n",
    "\n",
    "\n",
    "# bayeisan regression\n",
    "\n",
    "# LSTM:\n",
    "#   1. initialization\n",
    "#   2. batch normalization\n",
    "#   3. weight normalization\n",
    "#   4. variable length\n",
    "#   5. attention mechanism \n",
    "\n",
    "# LSTM:  discrimitive, generative\n",
    "# perodic in data\n",
    "# attention \n",
    "\n",
    "# http://bugra.github.io/work/notes/2014-04-26/outlier-detection-markov-chain-monte-carlo-via-pymc/"
   ]
  },
  {
   "cell_type": "code",
   "execution_count": null,
   "metadata": {
    "collapsed": true
   },
   "outputs": [],
   "source": [
    "# TO DO:\n",
    "#  lstm regularization\n",
    "#  skewness of dependent variable \n",
    "\n",
    "# http://smerity.com/articles/2016/orthogonal_init.html\n",
    "\n",
    "\n",
    "\n",
    "# RMSE, MAE, MAPE "
   ]
  },
  {
   "cell_type": "code",
   "execution_count": 1,
   "metadata": {
    "collapsed": false
   },
   "outputs": [],
   "source": [
    "# data processing packages\n",
    "import numpy as np   \n",
    "import pandas as pd \n",
    "\n",
    "from pandas import *\n",
    "from numpy import *\n",
    "from scipy import *\n",
    " \n",
    "%matplotlib inline    \n",
    "import matplotlib as mplt\n",
    "from matplotlib import cm\n",
    "import matplotlib.pyplot as plt\n",
    "import matplotlib.gridspec as gridspec\n",
    "\n",
    "import IPython\n",
    "from IPython.display import display\n",
    "\n",
    "import matplotlib\n",
    "from matplotlib.ticker import FuncFormatter\n",
    "import matplotlib.pyplot as plt\n",
    "# matplotlib.style.use('ggplot')\n",
    "import itertools\n",
    "\n",
    "import random\n",
    "\n",
    "# machine leanring packages\n",
    "\n",
    "from sklearn.metrics import accuracy_score\n",
    "from sklearn.model_selection import train_test_split\n",
    "from sklearn.model_selection import cross_val_score\n",
    "from sklearn import tree\n",
    "from sklearn.ensemble import GradientBoostingRegressor\n",
    "from sklearn.ensemble import RandomForestRegressor\n",
    "from sklearn.metrics import precision_recall_fscore_support as score\n",
    "from sklearn.model_selection import train_test_split\n",
    "from sklearn import preprocessing\n",
    "\n",
    "import xgboost as xgb\n",
    "\n"
   ]
  },
  {
   "cell_type": "code",
   "execution_count": null,
   "metadata": {
    "collapsed": true
   },
   "outputs": [],
   "source": [
    "# features:\n",
    "    \n",
    "# Feature based approach: Here the time series are mapped to another, \n",
    "#     possibly lower dimensional, representation. \n",
    "#     This means that the feature extraction algorithm calculates characteristics\n",
    "#     such as the average or maximal value of the time series. The features are then \n",
    "#     passed as a feature matrix to a \"normal\" machine learning such as a neural network, \n",
    "#     random forest or support vector machine. This approach has the advantage of a better\n",
    "#     explainability of the results. Further it enables us to use a well developed theory of\n",
    "# supervised machine learning.\n"
   ]
  },
  {
   "cell_type": "code",
   "execution_count": 7,
   "metadata": {
    "collapsed": false
   },
   "outputs": [],
   "source": [
    "def multivariate_ts_plot( dta_df, title_str ):\n",
    "    matplotlib.rcParams.update({'font.size': 15})\n",
    "    figure_size = (15.4,7)\n",
    "    legend_font = 8.5\n",
    "    fig = plt.figure()\n",
    "    fig.set_size_inches( figure_size )\n",
    "    \n",
    "    tmpt = range(dta_df.shape[0])\n",
    "    for i in dta_df.columns:\n",
    "        \n",
    "        tmpx = list(dta_df[i])    \n",
    "        plt.plot( tmpt, tmpx, label= i )\n",
    "\n",
    "#     axes = plt.gca()\n",
    "#     axes.set_xlim([1, tdf.shape[0]+10])\n",
    "#     axes.set_ylim([yrange[0], yrange[1]])\n",
    "\n",
    "    # plt.plot( list( clean_tdf['value']), color='g' )\n",
    "\n",
    "    # plt.xticks([1,2,3,4,5], ['5','10','15','20','25'] )\n",
    "    # plt.ticklabel_format(style='sci', axis='y', scilimits=(0,0))\n",
    "\n",
    "    # axes.xaxis.set_ticks( ['5m', '10m', '15m','20m'] ) \n",
    "    # axes.xaxis.set_major_locator(MaxNLocator(integer=True))\n",
    "    plt.title( title_str )\n",
    "    plt.ylabel('Value')\n",
    "    plt.xlabel('Time')\n",
    "    # plt.legend( loc='upper left',fontsize=12 )\n",
    "    plt.legend(loc='upper left')\n",
    "    #     bbox_to_anchor=(0., 1.0, 1., .10),\n",
    "    #            loc=0,\n",
    "    #            ncol=5, mode=\"expand\", borderaxespad=0., fontsize= legend_font , numpoints=1 )"
   ]
  },
  {
   "cell_type": "code",
   "execution_count": 3,
   "metadata": {
    "collapsed": false
   },
   "outputs": [
    {
     "name": "stdout",
     "output_type": "stream",
     "text": [
      "Shape of the dataset:  (58509, 49) Int64Index([ 0,  1,  2,  3,  4,  5,  6,  7,  8,  9, 10, 11, 12, 13, 14, 15, 16,\n",
      "            17, 18, 19, 20, 21, 22, 23, 24, 25, 26, 27, 28, 29, 30, 31, 32, 33,\n",
      "            34, 35, 36, 37, 38, 39, 40, 41, 42, 43, 44, 45, 46, 47, 48],\n",
      "           dtype='int64')\n"
     ]
    }
   ],
   "source": [
    "\n",
    "addr = \"../dataset/dataset_huarui/diagnosis.txt\"\n",
    "dta_df = pd.read_csv( addr ,sep=' ', header=None )\n",
    "print 'Shape of the dataset: ', dta_df.shape, dta_df.columns\n",
    "\n",
    "dta_df[48] = dta_df[48]-1"
   ]
  },
  {
   "cell_type": "code",
   "execution_count": 10,
   "metadata": {
    "collapsed": false
   },
   "outputs": [
    {
     "data": {
      "text/plain": [
       "Counter({1: 5319,\n",
       "         2: 5319,\n",
       "         3: 5319,\n",
       "         4: 5319,\n",
       "         5: 5319,\n",
       "         6: 5319,\n",
       "         7: 5319,\n",
       "         8: 5319,\n",
       "         9: 5319,\n",
       "         10: 5319,\n",
       "         11: 5319})"
      ]
     },
     "execution_count": 10,
     "metadata": {},
     "output_type": "execute_result"
    }
   ],
   "source": [
    "from collections import Counter\n",
    "Counter( list(dta_df[48]) ) \n",
    "# dta_df['1']"
   ]
  },
  {
   "cell_type": "code",
   "execution_count": 22,
   "metadata": {
    "collapsed": false
   },
   "outputs": [
    {
     "data": {
      "text/plain": [
       "58509"
      ]
     },
     "execution_count": 22,
     "metadata": {},
     "output_type": "execute_result"
    }
   ],
   "source": [
    "5319*11"
   ]
  },
  {
   "cell_type": "code",
   "execution_count": 24,
   "metadata": {
    "collapsed": false
   },
   "outputs": [
    {
     "name": "stdout",
     "output_type": "stream",
     "text": [
      "58509 48\n"
     ]
    }
   ],
   "source": [
    "tmpcol=range(48)\n",
    "tmpmat = dta_df[tmpcol].as_matrix()\n",
    "print len(tmpmat), len(tmpmat[0])"
   ]
  },
  {
   "cell_type": "code",
   "execution_count": 25,
   "metadata": {
    "collapsed": false
   },
   "outputs": [],
   "source": [
    "\n",
    "ts_class= []\n",
    "st = 10\n",
    "for i in range(11):\n",
    "    ts_class.append( tmpmat[st+i*5319] )\n"
   ]
  },
  {
   "cell_type": "code",
   "execution_count": 32,
   "metadata": {
    "collapsed": false
   },
   "outputs": [
    {
     "data": {
      "text/plain": [
       "<matplotlib.legend.Legend at 0x7ff80f08fed0>"
      ]
     },
     "execution_count": 32,
     "metadata": {},
     "output_type": "execute_result"
    },
    {
     "data": {
      "image/png": "[encoded data removed]",
      "text/plain": [
       "<matplotlib.figure.Figure at 0x7ff85410aa50>"
      ]
     },
     "metadata": {},
     "output_type": "display_data"
    }
   ],
   "source": [
    "matplotlib.rcParams.update({'font.size': 15})\n",
    "figure_size = (15.4,7)\n",
    "    \n",
    "legend_font = 8.5\n",
    "fig = plt.figure()\n",
    "fig.set_size_inches( figure_size )\n",
    "    \n",
    "labels = \n",
    "    \n",
    "tmpt = range(48)\n",
    "st = 15\n",
    "for i in range(5):\n",
    "    \n",
    "    plt.plot( tmpt, tmpmat[st+i*5319], label= i )\n",
    "        \n",
    "\n",
    "plt.title( \"\" )\n",
    "plt.ylabel('Feature Value')\n",
    "plt.xlabel('Time')\n",
    "    # plt.legend( loc='upper left',fontsize=12 )\n",
    "plt.legend(loc='upper left')\n",
    "\n",
    "\n"
   ]
  },
  {
   "cell_type": "code",
   "execution_count": 7,
   "metadata": {
    "collapsed": false
   },
   "outputs": [
    {
     "data": {
      "text/plain": [
       "Counter({0: 5319,\n",
       "         1: 5319,\n",
       "         2: 5319,\n",
       "         3: 5319,\n",
       "         4: 5319,\n",
       "         5: 5319,\n",
       "         6: 5319,\n",
       "         7: 5319,\n",
       "         8: 5319,\n",
       "         9: 5319,\n",
       "         10: 5319})"
      ]
     },
     "execution_count": 7,
     "metadata": {},
     "output_type": "execute_result"
    }
   ],
   "source": []
  },
  {
   "cell_type": "code",
   "execution_count": 8,
   "metadata": {
    "collapsed": false
   },
   "outputs": [
    {
     "name": "stdout",
     "output_type": "stream",
     "text": [
      "(46807, 48) (11702, 48) (46807,) (11702,)\n"
     ]
    }
   ],
   "source": [
    "x_col = range(48)\n",
    "y_col = 48\n",
    "    \n",
    "x_all = np.array( dta_df[x_col]  )\n",
    "y_all = np.array( dta_df[y_col] )\n",
    "\n",
    "#     x_all = x_all[ total_idx[: int(1.0*len(total_idx))] ]\n",
    "#     y_all = y_all[ total_idx[: int(1.0*len(total_idx))] ]\n",
    "    \n",
    "tmp_x_train, tmp_x_test, tmp_y_train, tmp_y_test = \\\n",
    "    train_test_split( x_all, y_all, test_size = 0.2, random_state = 20)\n",
    "    \n",
    "print np.shape(tmp_x_train), np.shape(tmp_x_test), np.shape(tmp_y_train), np.shape(tmp_y_test)"
   ]
  },
  {
   "cell_type": "code",
   "execution_count": 28,
   "metadata": {
    "collapsed": false
   },
   "outputs": [
    {
     "name": "stdout",
     "output_type": "stream",
     "text": [
      "n_estimator, RMSE: (10, 200.74424935334872)\n",
      "depth, RMSE: (3, 250.03334104971421)\n"
     ]
    }
   ],
   "source": [
    "# GBT performance\n",
    "\n",
    "fix_lr = 0.25\n",
    "\n",
    "n_err, n_err_list = gbt_n_estimatior(301, xtrain, ytrain, xtest, ytest, fix_lr)\n",
    "\n",
    "print \"n_estimator, RMSE:\", n_err\n",
    "\n",
    "depth_err, depth_err_list = gbt_tree_para( xtrain, ytrain, xtest, ytest, range(3,16), fix_lr, n_err[0] )\n",
    "\n",
    "print \"depth, RMSE:\", depth_err\n"
   ]
  },
  {
   "cell_type": "code",
   "execution_count": null,
   "metadata": {
    "collapsed": false
   },
   "outputs": [],
   "source": [
    "# XGBoosted performance\n",
    "fix_lr = 0.2\n",
    "\n",
    "n_depth_err, n_depth_err_list = xgt_n_depth( fix_lr, 16, 51, xtrain, ytrain, xtest, ytest)\n",
    "\n",
    "print \" depth, number of rounds, RMSE:\", n_depth_err\n",
    "\n",
    "l2_err, l2_err_list = xgt_l2( fix_lr, n_depth_err[0], n_depth_err[1], xtrain, ytrain, xtest, ytest,\\\n",
    "                    [0.0001, 0.001, 0.01, 0.1, 1, 10, 100, 1000])\n",
    "\n",
    "print \" l2, RMSE:\", l2_err"
   ]
  },
  {
   "cell_type": "code",
   "execution_count": 40,
   "metadata": {
    "collapsed": false
   },
   "outputs": [
    {
     "name": "stdout",
     "output_type": "stream",
     "text": [
      "n_estimator, RMSE: (120, 24, 167.40678819053835)\n"
     ]
    }
   ],
   "source": [
    "# Random forest performance\n",
    "\n",
    "n_err, n_err_list = rf_n_depth_estimatior( 130, 25, xtrain, ytrain, xtest, ytest )\n",
    "\n",
    "print \"n_estimator, RMSE:\", n_err\n"
   ]
  }
 ],
 "metadata": {
  "kernelspec": {
   "display_name": "Python 2",
   "language": "python",
   "name": "python2"
  },
  "language_info": {
   "codemirror_mode": {
    "name": "ipython",
    "version": 2
   },
   "file_extension": ".py",
   "mimetype": "text/x-python",
   "name": "python",
   "nbconvert_exporter": "python",
   "pygments_lexer": "ipython2",
   "version": "2.7.6"
  }
 },
 "nbformat": 4,
 "nbformat_minor": 0
}
