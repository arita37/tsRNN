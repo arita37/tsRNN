{
 "cells": [
  {
   "cell_type": "code",
   "execution_count": 2,
   "metadata": {
    "collapsed": true
   },
   "outputs": [],
   "source": [
    "# data processing packages\n",
    "import numpy as np   \n",
    "import pandas as pd \n",
    "from pandas import *\n",
    "from numpy import *\n",
    "\n",
    "from scipy import stats # look at scipy\n",
    "from scipy import linalg\n",
    "from scipy import *\n",
    " \n",
    "%matplotlib inline    \n",
    "import matplotlib as mplt\n",
    "from matplotlib import cm\n",
    "import matplotlib.pyplot as plt\n",
    "import matplotlib.gridspec as gridspec\n",
    "\n",
    "import IPython\n",
    "from IPython.display import display\n",
    "\n",
    "import matplotlib\n",
    "from matplotlib.ticker import FuncFormatter\n",
    "import matplotlib.pyplot as plt\n",
    "# matplotlib.style.use('ggplot')\n",
    "import itertools\n",
    "\n",
    "import random\n",
    "\n",
    "# machine leanring packages\n",
    "\n",
    "from sklearn.metrics import accuracy_score\n",
    "from sklearn.model_selection import train_test_split\n",
    "from sklearn.model_selection import cross_val_score\n",
    "from sklearn import tree\n",
    "from sklearn.metrics import precision_recall_fscore_support as score\n",
    "from sklearn.model_selection import train_test_split\n",
    "from sklearn import preprocessing\n",
    "\n",
    "import xgboost as xgb\n",
    "\n",
    "from sklearn.gaussian_process import GaussianProcessRegressor\n",
    "from sklearn.gaussian_process.kernels \\\n",
    "    import RBF, WhiteKernel, RationalQuadratic, ExpSineSquared\n",
    "from sklearn.datasets import fetch_mldata\n"
   ]
  },
  {
   "cell_type": "code",
   "execution_count": 3,
   "metadata": {
    "collapsed": true
   },
   "outputs": [],
   "source": [
    "import tensorflow as tf"
   ]
  },
  {
   "cell_type": "code",
   "execution_count": 2,
   "metadata": {
    "collapsed": false
   },
   "outputs": [
    {
     "ename": "ImportError",
     "evalue": "No module named models.tutorials.rnn.translate",
     "output_type": "error",
     "traceback": [
      "\u001b[1;31m---------------------------------------------------------------------------\u001b[0m",
      "\u001b[1;31mImportError\u001b[0m                               Traceback (most recent call last)",
      "\u001b[1;32m<ipython-input-2-dd81daf8e333>\u001b[0m in \u001b[0;36m<module>\u001b[1;34m()\u001b[0m\n\u001b[1;32m----> 1\u001b[1;33m \u001b[1;32mfrom\u001b[0m \u001b[0mmodels\u001b[0m\u001b[1;33m.\u001b[0m\u001b[0mtutorials\u001b[0m\u001b[1;33m.\u001b[0m\u001b[0mrnn\u001b[0m\u001b[1;33m.\u001b[0m\u001b[0mtranslate\u001b[0m \u001b[1;32mimport\u001b[0m \u001b[0mdata_utils\u001b[0m\u001b[1;33m\u001b[0m\u001b[0m\n\u001b[0m",
      "\u001b[1;31mImportError\u001b[0m: No module named models.tutorials.rnn.translate"
     ]
    }
   ],
   "source": [
    "from models.tutorials.rnn.translate import data_utils"
   ]
  },
  {
   "cell_type": "code",
   "execution_count": 5,
   "metadata": {
    "collapsed": false
   },
   "outputs": [],
   "source": [
    "import os\n",
    "import re"
   ]
  },
  {
   "cell_type": "code",
   "execution_count": 10,
   "metadata": {
    "collapsed": false
   },
   "outputs": [
    {
     "name": "stdout",
     "output_type": "stream",
     "text": [
      "_PAD\n"
     ]
    }
   ],
   "source": [
    "PAD = u\"_PAD\"\n",
    "print PAD"
   ]
  },
  {
   "cell_type": "code",
   "execution_count": 6,
   "metadata": {
    "collapsed": true
   },
   "outputs": [],
   "source": [
    "_WORD_SPLIT = re.compile(b\"([.,!?\\\"':;)(])\")\n",
    "_DIGIT_RE = re.compile(br\"\\d\")\n"
   ]
  },
  {
   "cell_type": "code",
   "execution_count": 7,
   "metadata": {
    "collapsed": false
   },
   "outputs": [
    {
     "name": "stdout",
     "output_type": "stream",
     "text": [
      "<_sre.SRE_Pattern object at 0x7f09344b5a80> <_sre.SRE_Pattern object at 0x7f09344f3390>\n"
     ]
    }
   ],
   "source": [
    "print _WORD_SPLIT,_DIGIT_RE"
   ]
  },
  {
   "cell_type": "code",
   "execution_count": 2,
   "metadata": {
    "collapsed": false
   },
   "outputs": [],
   "source": [
    "import sys\n",
    "sys.path.append(\"/usr/local/lib/python2.7/dist-packages/tensorflow/models/tutorials/rnn/translate\")\n",
    "\n",
    "from translate import data_utils\n",
    "\n",
    "\n",
    "# import translate\n",
    "# .data_utils\n",
    "# import tensorflow.models\n",
    "# import data_utils\n",
    "# import seq2seq_model"
   ]
  },
  {
   "cell_type": "code",
   "execution_count": null,
   "metadata": {
    "collapsed": true
   },
   "outputs": [],
   "source": [
    "# Reference:\n",
    "# http://people.duke.edu/~rnau/411home.htm\n",
    "# http://machinelearningmastery.com/arima-for-time-series-forecasting-with-python/\n",
    "# https://www.analyticsvidhya.com/blog/2016/02/time-series-forecasting-codes-python/\n",
    "\n",
    "\n",
    "# http://nbviewer.jupyter.org/github/CamDavidsonPilon/Probabilistic-Programming-and-Bayesian-Methods-for-Hackers/blob/master/Prologue/Prologue.ipynb"
   ]
  },
  {
   "cell_type": "code",
   "execution_count": null,
   "metadata": {
    "collapsed": true
   },
   "outputs": [],
   "source": [
    "# Feature extraction:\n",
    "\n",
    "# stationarity test \n",
    "\n",
    "# Trend: fitting, differencing\n",
    "# Local pattern: wavelent transformation\n",
    "# Seasonality: test, autocorrelation, Fourier transformation\n"
   ]
  },
  {
   "cell_type": "code",
   "execution_count": 3,
   "metadata": {
    "collapsed": false
   },
   "outputs": [
    {
     "name": "stdout",
     "output_type": "stream",
     "text": [
      "(4000,) (1500,)\n"
     ]
    }
   ],
   "source": [
    "files_list=[\"../dataset/dataset_ts/stock_xtrain_statis.dat\", \\\n",
    "            \"../dataset/dataset_ts/stock_xtest_statis.dat\",\\\n",
    "#             \"../dataset/dataset_ts/stock_ytrain.dat\", \\\n",
    "#             \"../dataset/dataset_ts/stock_ytest.dat\"\n",
    "           ]\n",
    "\n",
    "\n",
    "# xtrain, ytrain, xtest, ytest = \\\n",
    "# prepare_train_test_data( True, files_list)\n",
    "\n",
    "xtr = np.load(files_list[0])\n",
    "xts = np.load(files_list[1])\n",
    "print np.shape(xtr), np.shape(xts)"
   ]
  },
  {
   "cell_type": "code",
   "execution_count": null,
   "metadata": {
    "collapsed": true
   },
   "outputs": [],
   "source": [
    "# features: time stamps, autoregressive value, trend \n",
    "\n",
    "def expand_x_trend_GP( x ):\n",
    "    cnt = len(x)\n",
    "    return [ x[i]-x[i-1] for i in range(1, cnt) ]\n",
    "\n",
    "def expand_x_lag( current_step, x, max_step ):\n",
    "    cnt = len(x)\n",
    "    return [ x[i-current_step] for i in range( max_step, cnt )]\n",
    "    \n",
    "def prepare_train_test_data_GP(bool_add_trend, bool_add_lag_value, files_list, lag_steps):\n",
    "                          \n",
    "    dta_tr = np.load(files_list[0])\n",
    "    dta_ts = np.load(files_list[1])\n",
    "                    \n",
    "    cnt_tr = len(dta_tr)\n",
    "    cnt_ts = len(dta_ts)\n",
    "    \n",
    "    x_tr = []\n",
    "    x_ts = []\n",
    "    \n",
    "    y_tr = []\n",
    "    y_ts = []\n",
    "    \n",
    "    \n",
    "#   trends\n",
    "    if bool_add_trend == True:\n",
    "        \n",
    "        trend_tr = expand_x_trend_GP( dta_tr )\n",
    "        trend_ts = expand_x_trend_GP( dta_ts )\n",
    "        \n",
    "        x_tr.append( trend_tr )\n",
    "        x_ts.append( trend_ts )\n",
    "        \n",
    "#       time ticks\n",
    "        x_tr.append( range(cnt_tr-1) )\n",
    "        x_ts.append( range(cnt_tr-1+cnt_ts-1) )       \n",
    "        \n",
    "    else:\n",
    "        \n",
    "#       time ticks\n",
    "        x_tr.append( range(cnt_tr) )\n",
    "        x_ts.append( range(cnt_tr, cnt_ts+cnt_tr) )\n",
    "        \n",
    "    \n",
    "#   autoregressive values\n",
    "    if bool_add_lag_value == True:\n",
    "        \n",
    "        for i in range(lag_steps):\n",
    "            x_tr.append( x_ts )\n",
    "            x_ts.append( range(cnt_tr-1+cnt_ts-1) )   \n",
    "            \n",
    "            \n",
    "    \n",
    "        \n",
    "#   normalize x in training and testing datasets\n",
    "    xtest = conti_normalization_test_dta(  xtest_df, xtrain_df )\n",
    "    xtrain= conti_normalization_train_dta( xtrain_df )\n",
    "        \n",
    "    return xtrain, ytr, xtest, yts"
   ]
  },
  {
   "cell_type": "code",
   "execution_count": 13,
   "metadata": {
    "collapsed": false
   },
   "outputs": [
    {
     "data": {
      "text/plain": [
       "[<matplotlib.lines.Line2D at 0x7f68b318fa50>]"
      ]
     },
     "execution_count": 13,
     "metadata": {},
     "output_type": "execute_result"
    },
    {
     "data": {
      "image/png": "[encoded data removed]",
      "text/plain": [
       "<matplotlib.figure.Figure at 0x7f68b6e53c10>"
      ]
     },
     "metadata": {},
     "output_type": "display_data"
    }
   ],
   "source": [
    "data = fetch_mldata('mauna-loa-atmospheric-co2').data\n",
    "X = data[:, [1]]\n",
    "y = data[:, 0 ]\n",
    "\n",
    "\n",
    "plt.plot(X,y)"
   ]
  },
  {
   "cell_type": "code",
   "execution_count": 17,
   "metadata": {
    "collapsed": false
   },
   "outputs": [
    {
     "name": "stdout",
     "output_type": "stream",
     "text": [
      "\n",
      "Learned kernel: 34.5**2 * RBF(length_scale=41.8) + 3.26**2 * RBF(length_scale=180) * ExpSineSquared(length_scale=1.44, periodicity=1) + 0.446**2 * RationalQuadratic(alpha=17.7, length_scale=0.957) + 0.197**2 * RBF(length_scale=0.138) + WhiteKernel(noise_level=0.0336)\n",
      "Log-marginal-likelihood: -83.214\n"
     ]
    }
   ],
   "source": [
    "# Kernel with optimized parameters\n",
    "k1 = 5 * RBF(length_scale=50.0)  # long term smooth rising trend\n",
    "k2 = 2 * RBF(length_scale=100.0) \\\n",
    "    * ExpSineSquared(length_scale=1.0, periodicity=1.0,\n",
    "                     periodicity_bounds=\"fixed\")  # seasonal component\n",
    "# medium term irregularities\n",
    "k3 = 2 * RationalQuadratic(length_scale=1.0, alpha=1.0)\n",
    "k4 = 2 * RBF(length_scale=0.1) \\\n",
    "    + WhiteKernel(noise_level=0.1**2,\n",
    "                  noise_level_bounds=(1e-3, np.inf))  # noise terms\n",
    "\n",
    "kernel = k1 + k2 + k3 + k4\n",
    "\n",
    "gp = GaussianProcessRegressor(kernel=kernel, alpha=0,\n",
    "                              normalize_y=True)\n",
    "gp.fit(X, y)\n",
    "\n",
    "print(\"\\nLearned kernel: %s\" % gp.kernel_)\n",
    "print(\"Log-marginal-likelihood: %.3f\"\n",
    "      % gp.log_marginal_likelihood(gp.kernel_.theta))"
   ]
  },
  {
   "cell_type": "code",
   "execution_count": 23,
   "metadata": {
    "collapsed": false
   },
   "outputs": [
    {
     "data": {
      "image/png": "[encoded data removed]",
      "text/plain": [
       "<matplotlib.figure.Figure at 0x7f68b2f047d0>"
      ]
     },
     "metadata": {},
     "output_type": "display_data"
    }
   ],
   "source": [
    "# X_ = np.linspace(X.min(), X.max() + 30, 1000)[:, np.newaxis]\n",
    "\n",
    "X_ = np.array([X.max()+i*5 for i in range(10)])\n",
    "X_ = np.reshape(X_, [-1,1])\n",
    "\n",
    "y_pred, y_std = gp.predict(X_, return_std=True)\n",
    "\n",
    "\n",
    "# Illustration\n",
    "plt.scatter(X, y, c='k')\n",
    "plt.plot(X_, y_pred)\n",
    "plt.fill_between(X_[:, 0], y_pred - y_std, y_pred + y_std,\n",
    "                 alpha=0.5, color='k')\n",
    "plt.xlim(X_.min(), X_.max())\n",
    "plt.xlabel(\"Year\")\n",
    "plt.ylabel(r\"CO$_2$ in ppm\")\n",
    "plt.title(r\"Atmospheric CO$_2$ concentration at Mauna Loa\")\n",
    "plt.tight_layout()\n",
    "plt.show()\n"
   ]
  },
  {
   "cell_type": "code",
   "execution_count": 11,
   "metadata": {
    "collapsed": true
   },
   "outputs": [],
   "source": [
    "# Copyright 2015 The TensorFlow Authors. All Rights Reserved.\n",
    "#\n",
    "# Licensed under the Apache License, Version 2.0 (the \"License\");\n",
    "# you may not use this file except in compliance with the License.\n",
    "# You may obtain a copy of the License at\n",
    "#\n",
    "#     http://www.apache.org/licenses/LICENSE-2.0\n",
    "#\n",
    "# Unless required by applicable law or agreed to in writing, software\n",
    "# distributed under the License is distributed on an \"AS IS\" BASIS,\n",
    "# WITHOUT WARRANTIES OR CONDITIONS OF ANY KIND, either express or implied.\n",
    "# See the License for the specific language governing permissions and\n",
    "# limitations under the License.\n",
    "# ==============================================================================\n",
    "\n",
    "\"\"\"Utilities for downloading data from WMT, tokenizing, vocabularies.\"\"\"\n",
    "from __future__ import absolute_import\n",
    "from __future__ import division\n",
    "from __future__ import print_function\n",
    "\n",
    "import os\n",
    "import re\n",
    "import tensorflow as tf\n",
    "\n",
    "from six.moves import urllib\n",
    "\n",
    "from tensorflow.python.platform import gfile\n",
    "\n",
    "# Special vocabulary symbols - we always put them at the start.\n",
    "_PAD = b\"_PAD\"\n",
    "_GO = b\"_GO\"\n",
    "_EOS = b\"_EOS\"\n",
    "_UNK = b\"_UNK\"\n",
    "_START_VOCAB = [_PAD, _GO, _EOS, _UNK]\n",
    "\n",
    "PAD_ID = 0\n",
    "GO_ID = 1\n",
    "EOS_ID = 2\n",
    "UNK_ID = 3\n",
    "\n",
    "# Regular expressions used to tokenize.\n",
    "_WORD_SPLIT = re.compile(b\"([.,!?\\\"':;)(])\")\n",
    "_DIGIT_RE = re.compile(br\"\\d\")\n",
    "\n",
    "\n",
    "\n",
    "def basic_tokenizer(sentence):\n",
    "  \"\"\"Very basic tokenizer: split the sentence into a list of tokens.\"\"\"\n",
    "  words = []\n",
    "  for space_separated_fragment in sentence.strip().split():\n",
    "    words.extend(re.split(_WORD_SPLIT, space_separated_fragment))\n",
    "  return [w for w in words if w]\n",
    "\n",
    "\n",
    "def create_vocabulary(vocabulary_path, data_path, max_vocabulary_size,\n",
    "                      tokenizer=None, normalize_digits=True):\n",
    "    \n",
    "    if not gfile.Exists(vocabulary_path):\n",
    "        print(\"Creating vocabulary %s from %s\" % (vocabulary_path, data_path))\n",
    "    \n",
    "    vocab = {}\n",
    "    \n",
    "    with gfile.GFile(data_path, mode=\"rb\") as f:\n",
    "        counter = 0\n",
    "        \n",
    "        for line in f:\n",
    "            line = tf.compat.as_bytes(line)  # added by Ken\n",
    "            counter += 1\n",
    "            \n",
    "            if counter % 100000 == 0:\n",
    "                print(\"  processing line %d\" % counter)\n",
    "                \n",
    "            tokens = tokenizer(line) if tokenizer else basic_tokenizer(line)\n",
    "            \n",
    "            for w in tokens:\n",
    "                word = re.sub(_DIGIT_RE, b\"0\", w) if normalize_digits else w\n",
    "            \n",
    "            if word in vocab:\n",
    "                vocab[word] += 1\n",
    "            else:\n",
    "                vocab[word] = 1\n",
    "        \n",
    "        vocab_list = _START_VOCAB + sorted(vocab, key=vocab.get, reverse=True)\n",
    "        print('>> Full Vocabulary Size :',len(vocab_list))\n",
    "        if len(vocab_list) > max_vocabulary_size:\n",
    "            vocab_list = vocab_list[:max_vocabulary_size]\n",
    "        \n",
    "        with gfile.GFile(vocabulary_path, mode=\"wb\") as vocab_file:\n",
    "            for w in vocab_list:\n",
    "                vocab_file.write(w + b\"\\n\")\n",
    "\n",
    "\n",
    "def initialize_vocabulary(vocabulary_path):\n",
    "\n",
    "  if gfile.Exists(vocabulary_path):\n",
    "    rev_vocab = []\n",
    "    with gfile.GFile(vocabulary_path, mode=\"rb\") as f:\n",
    "      rev_vocab.extend(f.readlines())\n",
    "    rev_vocab = [line.strip() for line in rev_vocab]\n",
    "    vocab = dict([(x, y) for (y, x) in enumerate(rev_vocab)])\n",
    "    return vocab, rev_vocab\n",
    "  else:\n",
    "    raise ValueError(\"Vocabulary file %s not found.\", vocabulary_path)\n",
    "\n",
    "\n",
    "def sentence_to_token_ids(sentence, vocabulary, tokenizer=None, normalize_digits=True):\n",
    "\n",
    "  if tokenizer:\n",
    "    words = tokenizer(sentence)\n",
    "  else:\n",
    "    words = basic_tokenizer(sentence)\n",
    "  if not normalize_digits:\n",
    "    return [vocabulary.get(w, UNK_ID) for w in words]\n",
    "  # Normalize digits by 0 before looking words up in the vocabulary.\n",
    "  # return [vocabulary.get(re.sub(_DIGIT_RE, b\"0\", w), UNK_ID) for w in words] #mark added .decode by Ken\n",
    "  return [vocabulary.get(w.decode('utf-8'), UNK_ID) for w in words] # added  by Ken\n",
    "\n",
    "\n",
    "def data_to_token_ids(data_path, target_path, vocabulary_path,\n",
    "                      tokenizer=None, normalize_digits=True):\n",
    "\n",
    "  if not gfile.Exists(target_path):\n",
    "    print(\"Tokenizing data in %s\" % data_path)\n",
    "    vocab, _ = initialize_vocabulary(vocabulary_path)\n",
    "    with gfile.GFile(data_path, mode=\"rb\") as data_file:\n",
    "      with gfile.GFile(target_path, mode=\"wb\") as tokens_file:  # edit w to wb\n",
    "        counter = 0\n",
    "        for line in data_file:\n",
    "            line = tf.compat.as_bytes(line)  # added by Ken\n",
    "            counter += 1\n",
    "            if counter % 100000 == 0:\n",
    "                print(\"  tokenizing line %d\" % counter)\n",
    "            token_ids = sentence_to_token_ids(line, vocab, tokenizer,\n",
    "                                              normalize_digits)\n",
    "            tokens_file.write(\" \".join([str(tok) for tok in token_ids]) + \"\\n\")\n",
    "\n",
    "\n",
    "\n",
    "def prepare_custom_data(working_directory, train_enc, train_dec, test_enc, test_dec, enc_vocabulary_size, dec_vocabulary_size, tokenizer=None):\n",
    "\n",
    "    # Create vocabularies of the appropriate sizes.\n",
    "    enc_vocab_path = os.path.join(working_directory, \"vocab%d.enc\" % enc_vocabulary_size)\n",
    "    dec_vocab_path = os.path.join(working_directory, \"vocab%d.dec\" % dec_vocabulary_size)\n",
    "    create_vocabulary(enc_vocab_path, train_enc, enc_vocabulary_size, tokenizer)\n",
    "    create_vocabulary(dec_vocab_path, train_dec, dec_vocabulary_size, tokenizer)\n",
    "\n",
    "    # Create token ids for the training data.\n",
    "    enc_train_ids_path = train_enc + (\".ids%d\" % enc_vocabulary_size)\n",
    "    dec_train_ids_path = train_dec + (\".ids%d\" % dec_vocabulary_size)\n",
    "    data_to_token_ids(train_enc, enc_train_ids_path, enc_vocab_path, tokenizer)\n",
    "    data_to_token_ids(train_dec, dec_train_ids_path, dec_vocab_path, tokenizer)\n",
    "\n",
    "    # Create token ids for the development data.\n",
    "    enc_dev_ids_path = test_enc + (\".ids%d\" % enc_vocabulary_size)\n",
    "    dec_dev_ids_path = test_dec + (\".ids%d\" % dec_vocabulary_size)\n",
    "    data_to_token_ids(test_enc, enc_dev_ids_path, enc_vocab_path, tokenizer)\n",
    "    data_to_token_ids(test_dec, dec_dev_ids_path, dec_vocab_path, tokenizer)\n",
    "\n",
    "    return (enc_train_ids_path, dec_train_ids_path, enc_dev_ids_path, dec_dev_ids_path, enc_vocab_path, dec_vocab_path)\n"
   ]
  },
  {
   "cell_type": "code",
   "execution_count": 15,
   "metadata": {
    "collapsed": false
   },
   "outputs": [
    {
     "data": {
      "text/plain": [
       "'vocab0.enc'"
      ]
     },
     "execution_count": 15,
     "metadata": {},
     "output_type": "execute_result"
    }
   ],
   "source": [
    "\"vocab%d.enc\" % \n"
   ]
  }
 ],
 "metadata": {
  "kernelspec": {
   "display_name": "Python 2",
   "language": "python",
   "name": "python2"
  },
  "language_info": {
   "codemirror_mode": {
    "name": "ipython",
    "version": 2
   },
   "file_extension": ".py",
   "mimetype": "text/x-python",
   "name": "python",
   "nbconvert_exporter": "python",
   "pygments_lexer": "ipython2",
   "version": "2.7.6"
  }
 },
 "nbformat": 4,
 "nbformat_minor": 0
}
